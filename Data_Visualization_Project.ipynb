{
 "cells": [
  {
   "cell_type": "markdown",
   "metadata": {},
   "source": [
    "## Data Visualization Project On Missing Children In US\n"
   ]
  },
  {
   "cell_type": "markdown",
   "metadata": {},
   "source": [
    "**Importing Packages**"
   ]
  },
  {
   "cell_type": "code",
   "execution_count": 441,
   "metadata": {},
   "outputs": [],
   "source": [
    "import pandas as pd\n",
    "import numpy as np #to read the file\n",
    "import matplotlib.pyplot as plt #python visualization library\n",
    "import seaborn as sns #python visualization library\n",
    "from pandas import Series\n",
    "from matplotlib.colors import ListedColormap\n",
    "\n",
    "## Ignore warning\n",
    "import warnings\n",
    "warnings.filterwarnings('ignore')"
   ]
  },
  {
   "cell_type": "code",
   "execution_count": 442,
   "metadata": {
    "collapsed": true
   },
   "outputs": [],
   "source": [
    "data = pd.read_csv(\"C:/Users/mahak/Desktop/datamissingchildren.csv\",encoding='cp1252')#reading the data"
   ]
  },
  {
   "cell_type": "code",
   "execution_count": 443,
   "metadata": {},
   "outputs": [
    {
     "data": {
      "text/html": [
       "<div>\n",
       "<style>\n",
       "    .dataframe thead tr:only-child th {\n",
       "        text-align: right;\n",
       "    }\n",
       "\n",
       "    .dataframe thead th {\n",
       "        text-align: left;\n",
       "    }\n",
       "\n",
       "    .dataframe tbody tr th {\n",
       "        vertical-align: top;\n",
       "    }\n",
       "</style>\n",
       "<table border=\"1\" class=\"dataframe\">\n",
       "  <thead>\n",
       "    <tr style=\"text-align: right;\">\n",
       "      <th></th>\n",
       "      <th>childid</th>\n",
       "      <th>childfirstname</th>\n",
       "      <th>childlastname</th>\n",
       "      <th>birthdate</th>\n",
       "      <th>sex</th>\n",
       "      <th>race</th>\n",
       "      <th>haircolor</th>\n",
       "      <th>eyecolor</th>\n",
       "      <th>height</th>\n",
       "      <th>weight</th>\n",
       "      <th>missingreporteddate</th>\n",
       "      <th>missingfromdate</th>\n",
       "      <th>missingfromcity</th>\n",
       "      <th>missingfromstate</th>\n",
       "      <th>missingfromcountry</th>\n",
       "      <th>ncmeccasenumber</th>\n",
       "      <th>casetype</th>\n",
       "      <th>postercontact</th>\n",
       "      <th>posterurl</th>\n",
       "    </tr>\n",
       "  </thead>\n",
       "  <tbody>\n",
       "    <tr>\n",
       "      <th>0</th>\n",
       "      <td>179184</td>\n",
       "      <td>Gabriela</td>\n",
       "      <td>Gonzalez</td>\n",
       "      <td>1987-09-22</td>\n",
       "      <td>Female</td>\n",
       "      <td>Hispanic</td>\n",
       "      <td>Brown</td>\n",
       "      <td>Brown</td>\n",
       "      <td>501</td>\n",
       "      <td>115</td>\n",
       "      <td>2002-04-18 14:14</td>\n",
       "      <td>2002-04-05 14:00</td>\n",
       "      <td>San Diego</td>\n",
       "      <td>CA</td>\n",
       "      <td>United States</td>\n",
       "      <td>933919</td>\n",
       "      <td>Lost Injured Missing</td>\n",
       "      <td>Chula Vista Police Department (California)  1-...</td>\n",
       "      <td>www.missingkids.org/poster/NCMC/933919/1/</td>\n",
       "    </tr>\n",
       "    <tr>\n",
       "      <th>1</th>\n",
       "      <td>179604</td>\n",
       "      <td>Jahi</td>\n",
       "      <td>Turner</td>\n",
       "      <td>2000-02-10</td>\n",
       "      <td>Male</td>\n",
       "      <td>Black</td>\n",
       "      <td>Black</td>\n",
       "      <td>Brown</td>\n",
       "      <td>205</td>\n",
       "      <td>30</td>\n",
       "      <td>2002-04-26 17:10</td>\n",
       "      <td>2002-04-25 14:00</td>\n",
       "      <td>San Diego</td>\n",
       "      <td>CA</td>\n",
       "      <td>United States</td>\n",
       "      <td>934331</td>\n",
       "      <td>Lost Injured Missing</td>\n",
       "      <td>San Diego Police Department (California) 1-619...</td>\n",
       "      <td>www.missingkids.org/poster/NCMC/934331/1/</td>\n",
       "    </tr>\n",
       "    <tr>\n",
       "      <th>2</th>\n",
       "      <td>181262</td>\n",
       "      <td>Jesse</td>\n",
       "      <td>Florez</td>\n",
       "      <td>1986-11-12</td>\n",
       "      <td>Male</td>\n",
       "      <td>Hispanic</td>\n",
       "      <td>Brown</td>\n",
       "      <td>Brown</td>\n",
       "      <td>411</td>\n",
       "      <td>120</td>\n",
       "      <td>2002-05-24 13:36</td>\n",
       "      <td>2001-09-14 17:00</td>\n",
       "      <td>Phoenix</td>\n",
       "      <td>AZ</td>\n",
       "      <td>United States</td>\n",
       "      <td>936029</td>\n",
       "      <td>Lost Injured Missing</td>\n",
       "      <td>Phoenix Police Department (Arizona) 1-602-262-...</td>\n",
       "      <td>www.missingkids.org/poster/NCMC/936029/1/</td>\n",
       "    </tr>\n",
       "    <tr>\n",
       "      <th>3</th>\n",
       "      <td>186377</td>\n",
       "      <td>Angel</td>\n",
       "      <td>Torres-Irizarry</td>\n",
       "      <td>1974-08-27</td>\n",
       "      <td>Male</td>\n",
       "      <td>White</td>\n",
       "      <td>Blonde</td>\n",
       "      <td>Green</td>\n",
       "      <td>200</td>\n",
       "      <td>30</td>\n",
       "      <td>2002-08-02 8:53</td>\n",
       "      <td>1976-07-06 0:00</td>\n",
       "      <td>Adjuntas</td>\n",
       "      <td>PR</td>\n",
       "      <td>United States</td>\n",
       "      <td>941306</td>\n",
       "      <td>Lost Injured Missing</td>\n",
       "      <td>Department of Justicia (Puerto Rico)  1-787-72...</td>\n",
       "      <td>www.missingkids.org/poster/NCMC/941306/1/</td>\n",
       "    </tr>\n",
       "    <tr>\n",
       "      <th>4</th>\n",
       "      <td>195599</td>\n",
       "      <td>Stefanie</td>\n",
       "      <td>Mills</td>\n",
       "      <td>1986-02-24</td>\n",
       "      <td>Female</td>\n",
       "      <td>Black</td>\n",
       "      <td>Black</td>\n",
       "      <td>Brown</td>\n",
       "      <td>506</td>\n",
       "      <td>110</td>\n",
       "      <td>2002-12-04 11:49</td>\n",
       "      <td>2002-03-07 14:45</td>\n",
       "      <td>Pittsburgh</td>\n",
       "      <td>PA</td>\n",
       "      <td>United States</td>\n",
       "      <td>950909</td>\n",
       "      <td>Endangered Runaway</td>\n",
       "      <td>Pittsburgh Police Department (Pennsylvania) 1-...</td>\n",
       "      <td>www.missingkids.org/poster/NCMC/950909/1/</td>\n",
       "    </tr>\n",
       "  </tbody>\n",
       "</table>\n",
       "</div>"
      ],
      "text/plain": [
       "   childid childfirstname    childlastname   birthdate     sex      race  \\\n",
       "0   179184       Gabriela         Gonzalez  1987-09-22  Female  Hispanic   \n",
       "1   179604           Jahi           Turner  2000-02-10    Male     Black   \n",
       "2   181262          Jesse           Florez  1986-11-12    Male  Hispanic   \n",
       "3   186377          Angel  Torres-Irizarry  1974-08-27    Male     White   \n",
       "4   195599       Stefanie            Mills  1986-02-24  Female     Black   \n",
       "\n",
       "  haircolor eyecolor  height  weight missingreporteddate   missingfromdate  \\\n",
       "0     Brown    Brown     501     115    2002-04-18 14:14  2002-04-05 14:00   \n",
       "1     Black    Brown     205      30    2002-04-26 17:10  2002-04-25 14:00   \n",
       "2     Brown    Brown     411     120    2002-05-24 13:36  2001-09-14 17:00   \n",
       "3    Blonde    Green     200      30     2002-08-02 8:53   1976-07-06 0:00   \n",
       "4     Black    Brown     506     110    2002-12-04 11:49  2002-03-07 14:45   \n",
       "\n",
       "  missingfromcity missingfromstate missingfromcountry  ncmeccasenumber  \\\n",
       "0       San Diego               CA      United States           933919   \n",
       "1       San Diego               CA      United States           934331   \n",
       "2         Phoenix               AZ      United States           936029   \n",
       "3        Adjuntas               PR      United States           941306   \n",
       "4      Pittsburgh               PA      United States           950909   \n",
       "\n",
       "               casetype                                      postercontact  \\\n",
       "0  Lost Injured Missing  Chula Vista Police Department (California)  1-...   \n",
       "1  Lost Injured Missing  San Diego Police Department (California) 1-619...   \n",
       "2  Lost Injured Missing  Phoenix Police Department (Arizona) 1-602-262-...   \n",
       "3  Lost Injured Missing  Department of Justicia (Puerto Rico)  1-787-72...   \n",
       "4    Endangered Runaway  Pittsburgh Police Department (Pennsylvania) 1-...   \n",
       "\n",
       "                                   posterurl  \n",
       "0  www.missingkids.org/poster/NCMC/933919/1/  \n",
       "1  www.missingkids.org/poster/NCMC/934331/1/  \n",
       "2  www.missingkids.org/poster/NCMC/936029/1/  \n",
       "3  www.missingkids.org/poster/NCMC/941306/1/  \n",
       "4  www.missingkids.org/poster/NCMC/950909/1/  "
      ]
     },
     "execution_count": 443,
     "metadata": {},
     "output_type": "execute_result"
    }
   ],
   "source": [
    "data.head()# displaying the first five rows"
   ]
  },
  {
   "cell_type": "code",
   "execution_count": 444,
   "metadata": {},
   "outputs": [
    {
     "name": "stdout",
     "output_type": "stream",
     "text": [
      "size of data (2231, 19)\n"
     ]
    }
   ],
   "source": [
    "print(\"size of data\", data.shape) #rows and columns in the dataset"
   ]
  },
  {
   "cell_type": "code",
   "execution_count": 445,
   "metadata": {},
   "outputs": [
    {
     "name": "stdout",
     "output_type": "stream",
     "text": [
      "<class 'pandas.core.frame.DataFrame'>\n",
      "RangeIndex: 2231 entries, 0 to 2230\n",
      "Data columns (total 19 columns):\n",
      "childid                2231 non-null int64\n",
      "childfirstname         2231 non-null object\n",
      "childlastname          2230 non-null object\n",
      "birthdate              2231 non-null object\n",
      "sex                    2231 non-null object\n",
      "race                   2231 non-null object\n",
      "haircolor              1915 non-null object\n",
      "eyecolor               1916 non-null object\n",
      "height                 2231 non-null int64\n",
      "weight                 2231 non-null int64\n",
      "missingreporteddate    2231 non-null object\n",
      "missingfromdate        2231 non-null object\n",
      "missingfromcity        2231 non-null object\n",
      "missingfromstate       2224 non-null object\n",
      "missingfromcountry     2231 non-null object\n",
      "ncmeccasenumber        2231 non-null int64\n",
      "casetype               2231 non-null object\n",
      "postercontact          2231 non-null object\n",
      "posterurl              2231 non-null object\n",
      "dtypes: int64(4), object(15)\n",
      "memory usage: 331.2+ KB\n"
     ]
    }
   ],
   "source": [
    "data.info()#information of all the columns in a dataset"
   ]
  },
  {
   "cell_type": "code",
   "execution_count": 446,
   "metadata": {},
   "outputs": [
    {
     "data": {
      "text/plain": [
       "childid                  0\n",
       "childfirstname           0\n",
       "childlastname            1\n",
       "birthdate                0\n",
       "sex                      0\n",
       "race                     0\n",
       "haircolor              316\n",
       "eyecolor               315\n",
       "height                   0\n",
       "weight                   0\n",
       "missingreporteddate      0\n",
       "missingfromdate          0\n",
       "missingfromcity          0\n",
       "missingfromstate         7\n",
       "missingfromcountry       0\n",
       "ncmeccasenumber          0\n",
       "casetype                 0\n",
       "postercontact            0\n",
       "posterurl                0\n",
       "dtype: int64"
      ]
     },
     "execution_count": 446,
     "metadata": {},
     "output_type": "execute_result"
    }
   ],
   "source": [
    "data.isnull().sum()# checking for missing values"
   ]
  },
  {
   "cell_type": "markdown",
   "metadata": {},
   "source": [
    "Three columns-haircolor,eyecolor and missingfromstate have missing values, Since these are categorical columns so I decided to drop those missing records"
   ]
  },
  {
   "cell_type": "code",
   "execution_count": 447,
   "metadata": {
    "collapsed": true
   },
   "outputs": [],
   "source": [
    "df = data.dropna()# dropping the missing values"
   ]
  },
  {
   "cell_type": "code",
   "execution_count": 448,
   "metadata": {},
   "outputs": [
    {
     "data": {
      "text/plain": [
       "childid                0\n",
       "childfirstname         0\n",
       "childlastname          0\n",
       "birthdate              0\n",
       "sex                    0\n",
       "race                   0\n",
       "haircolor              0\n",
       "eyecolor               0\n",
       "height                 0\n",
       "weight                 0\n",
       "missingreporteddate    0\n",
       "missingfromdate        0\n",
       "missingfromcity        0\n",
       "missingfromstate       0\n",
       "missingfromcountry     0\n",
       "ncmeccasenumber        0\n",
       "casetype               0\n",
       "postercontact          0\n",
       "posterurl              0\n",
       "dtype: int64"
      ]
     },
     "execution_count": 448,
     "metadata": {},
     "output_type": "execute_result"
    }
   ],
   "source": [
    "df.isnull().sum()# checking for missing values"
   ]
  },
  {
   "cell_type": "code",
   "execution_count": 449,
   "metadata": {},
   "outputs": [
    {
     "name": "stdout",
     "output_type": "stream",
     "text": [
      "1\n"
     ]
    }
   ],
   "source": [
    "print((df[\"height\"] == 0).sum()) #checking if there is any zero values in this column as a person of height do not exist"
   ]
  },
  {
   "cell_type": "code",
   "execution_count": 450,
   "metadata": {},
   "outputs": [
    {
     "name": "stdout",
     "output_type": "stream",
     "text": [
      "1\n"
     ]
    }
   ],
   "source": [
    "print((df[\"weight\"] == 0).sum())#checking for zero values"
   ]
  },
  {
   "cell_type": "code",
   "execution_count": 451,
   "metadata": {
    "collapsed": true
   },
   "outputs": [],
   "source": [
    "#replacing the zero values with NaN\n",
    "df[\"height\"] = df[\"height\"].replace(0, np.NaN)\n",
    "df[\"weight\"] = df[\"weight\"].replace(0, np.NaN)"
   ]
  },
  {
   "cell_type": "code",
   "execution_count": 452,
   "metadata": {
    "collapsed": true
   },
   "outputs": [],
   "source": [
    "#Replacing the missing values with the mean of the columns\n",
    "df=df.fillna(df.mean(), inplace=True)"
   ]
  },
  {
   "cell_type": "code",
   "execution_count": 453,
   "metadata": {},
   "outputs": [
    {
     "name": "stdout",
     "output_type": "stream",
     "text": [
      "0\n"
     ]
    }
   ],
   "source": [
    "print((df[\"weight\"] == 0).sum())#no zero values"
   ]
  },
  {
   "cell_type": "code",
   "execution_count": 454,
   "metadata": {},
   "outputs": [
    {
     "name": "stdout",
     "output_type": "stream",
     "text": [
      "size of data (1906, 19)\n"
     ]
    }
   ],
   "source": [
    "print(\"size of data\", df.shape)#count of the data is reduced"
   ]
  },
  {
   "cell_type": "code",
   "execution_count": 455,
   "metadata": {},
   "outputs": [
    {
     "data": {
      "text/html": [
       "<div>\n",
       "<style>\n",
       "    .dataframe thead tr:only-child th {\n",
       "        text-align: right;\n",
       "    }\n",
       "\n",
       "    .dataframe thead th {\n",
       "        text-align: left;\n",
       "    }\n",
       "\n",
       "    .dataframe tbody tr th {\n",
       "        vertical-align: top;\n",
       "    }\n",
       "</style>\n",
       "<table border=\"1\" class=\"dataframe\">\n",
       "  <thead>\n",
       "    <tr style=\"text-align: right;\">\n",
       "      <th></th>\n",
       "      <th>childid</th>\n",
       "      <th>childfirstname</th>\n",
       "      <th>childlastname</th>\n",
       "      <th>birthdate</th>\n",
       "      <th>sex</th>\n",
       "      <th>race</th>\n",
       "      <th>haircolor</th>\n",
       "      <th>eyecolor</th>\n",
       "      <th>height</th>\n",
       "      <th>weight</th>\n",
       "      <th>missingreporteddate</th>\n",
       "      <th>missingfromdate</th>\n",
       "      <th>missingfromcity</th>\n",
       "      <th>missingfromstate</th>\n",
       "      <th>missingfromcountry</th>\n",
       "      <th>ncmeccasenumber</th>\n",
       "      <th>casetype</th>\n",
       "      <th>postercontact</th>\n",
       "      <th>posterurl</th>\n",
       "    </tr>\n",
       "  </thead>\n",
       "  <tbody>\n",
       "    <tr>\n",
       "      <th>0</th>\n",
       "      <td>179184</td>\n",
       "      <td>Gabriela</td>\n",
       "      <td>Gonzalez</td>\n",
       "      <td>1987-09-22</td>\n",
       "      <td>Female</td>\n",
       "      <td>Hispanic</td>\n",
       "      <td>Brown</td>\n",
       "      <td>Brown</td>\n",
       "      <td>501.0</td>\n",
       "      <td>115.0</td>\n",
       "      <td>2002-04-18 14:14</td>\n",
       "      <td>2002-04-05 14:00</td>\n",
       "      <td>San Diego</td>\n",
       "      <td>CA</td>\n",
       "      <td>United States</td>\n",
       "      <td>933919</td>\n",
       "      <td>Lost Injured Missing</td>\n",
       "      <td>Chula Vista Police Department (California)  1-...</td>\n",
       "      <td>www.missingkids.org/poster/NCMC/933919/1/</td>\n",
       "    </tr>\n",
       "    <tr>\n",
       "      <th>1</th>\n",
       "      <td>179604</td>\n",
       "      <td>Jahi</td>\n",
       "      <td>Turner</td>\n",
       "      <td>2000-02-10</td>\n",
       "      <td>Male</td>\n",
       "      <td>Black</td>\n",
       "      <td>Black</td>\n",
       "      <td>Brown</td>\n",
       "      <td>205.0</td>\n",
       "      <td>30.0</td>\n",
       "      <td>2002-04-26 17:10</td>\n",
       "      <td>2002-04-25 14:00</td>\n",
       "      <td>San Diego</td>\n",
       "      <td>CA</td>\n",
       "      <td>United States</td>\n",
       "      <td>934331</td>\n",
       "      <td>Lost Injured Missing</td>\n",
       "      <td>San Diego Police Department (California) 1-619...</td>\n",
       "      <td>www.missingkids.org/poster/NCMC/934331/1/</td>\n",
       "    </tr>\n",
       "    <tr>\n",
       "      <th>2</th>\n",
       "      <td>181262</td>\n",
       "      <td>Jesse</td>\n",
       "      <td>Florez</td>\n",
       "      <td>1986-11-12</td>\n",
       "      <td>Male</td>\n",
       "      <td>Hispanic</td>\n",
       "      <td>Brown</td>\n",
       "      <td>Brown</td>\n",
       "      <td>411.0</td>\n",
       "      <td>120.0</td>\n",
       "      <td>2002-05-24 13:36</td>\n",
       "      <td>2001-09-14 17:00</td>\n",
       "      <td>Phoenix</td>\n",
       "      <td>AZ</td>\n",
       "      <td>United States</td>\n",
       "      <td>936029</td>\n",
       "      <td>Lost Injured Missing</td>\n",
       "      <td>Phoenix Police Department (Arizona) 1-602-262-...</td>\n",
       "      <td>www.missingkids.org/poster/NCMC/936029/1/</td>\n",
       "    </tr>\n",
       "    <tr>\n",
       "      <th>3</th>\n",
       "      <td>186377</td>\n",
       "      <td>Angel</td>\n",
       "      <td>Torres-Irizarry</td>\n",
       "      <td>1974-08-27</td>\n",
       "      <td>Male</td>\n",
       "      <td>White</td>\n",
       "      <td>Blonde</td>\n",
       "      <td>Green</td>\n",
       "      <td>200.0</td>\n",
       "      <td>30.0</td>\n",
       "      <td>2002-08-02 8:53</td>\n",
       "      <td>1976-07-06 0:00</td>\n",
       "      <td>Adjuntas</td>\n",
       "      <td>PR</td>\n",
       "      <td>United States</td>\n",
       "      <td>941306</td>\n",
       "      <td>Lost Injured Missing</td>\n",
       "      <td>Department of Justicia (Puerto Rico)  1-787-72...</td>\n",
       "      <td>www.missingkids.org/poster/NCMC/941306/1/</td>\n",
       "    </tr>\n",
       "    <tr>\n",
       "      <th>4</th>\n",
       "      <td>195599</td>\n",
       "      <td>Stefanie</td>\n",
       "      <td>Mills</td>\n",
       "      <td>1986-02-24</td>\n",
       "      <td>Female</td>\n",
       "      <td>Black</td>\n",
       "      <td>Black</td>\n",
       "      <td>Brown</td>\n",
       "      <td>506.0</td>\n",
       "      <td>110.0</td>\n",
       "      <td>2002-12-04 11:49</td>\n",
       "      <td>2002-03-07 14:45</td>\n",
       "      <td>Pittsburgh</td>\n",
       "      <td>PA</td>\n",
       "      <td>United States</td>\n",
       "      <td>950909</td>\n",
       "      <td>Endangered Runaway</td>\n",
       "      <td>Pittsburgh Police Department (Pennsylvania) 1-...</td>\n",
       "      <td>www.missingkids.org/poster/NCMC/950909/1/</td>\n",
       "    </tr>\n",
       "  </tbody>\n",
       "</table>\n",
       "</div>"
      ],
      "text/plain": [
       "   childid childfirstname    childlastname   birthdate     sex      race  \\\n",
       "0   179184       Gabriela         Gonzalez  1987-09-22  Female  Hispanic   \n",
       "1   179604           Jahi           Turner  2000-02-10    Male     Black   \n",
       "2   181262          Jesse           Florez  1986-11-12    Male  Hispanic   \n",
       "3   186377          Angel  Torres-Irizarry  1974-08-27    Male     White   \n",
       "4   195599       Stefanie            Mills  1986-02-24  Female     Black   \n",
       "\n",
       "  haircolor eyecolor  height  weight missingreporteddate   missingfromdate  \\\n",
       "0     Brown    Brown   501.0   115.0    2002-04-18 14:14  2002-04-05 14:00   \n",
       "1     Black    Brown   205.0    30.0    2002-04-26 17:10  2002-04-25 14:00   \n",
       "2     Brown    Brown   411.0   120.0    2002-05-24 13:36  2001-09-14 17:00   \n",
       "3    Blonde    Green   200.0    30.0     2002-08-02 8:53   1976-07-06 0:00   \n",
       "4     Black    Brown   506.0   110.0    2002-12-04 11:49  2002-03-07 14:45   \n",
       "\n",
       "  missingfromcity missingfromstate missingfromcountry  ncmeccasenumber  \\\n",
       "0       San Diego               CA      United States           933919   \n",
       "1       San Diego               CA      United States           934331   \n",
       "2         Phoenix               AZ      United States           936029   \n",
       "3        Adjuntas               PR      United States           941306   \n",
       "4      Pittsburgh               PA      United States           950909   \n",
       "\n",
       "               casetype                                      postercontact  \\\n",
       "0  Lost Injured Missing  Chula Vista Police Department (California)  1-...   \n",
       "1  Lost Injured Missing  San Diego Police Department (California) 1-619...   \n",
       "2  Lost Injured Missing  Phoenix Police Department (Arizona) 1-602-262-...   \n",
       "3  Lost Injured Missing  Department of Justicia (Puerto Rico)  1-787-72...   \n",
       "4    Endangered Runaway  Pittsburgh Police Department (Pennsylvania) 1-...   \n",
       "\n",
       "                                   posterurl  \n",
       "0  www.missingkids.org/poster/NCMC/933919/1/  \n",
       "1  www.missingkids.org/poster/NCMC/934331/1/  \n",
       "2  www.missingkids.org/poster/NCMC/936029/1/  \n",
       "3  www.missingkids.org/poster/NCMC/941306/1/  \n",
       "4  www.missingkids.org/poster/NCMC/950909/1/  "
      ]
     },
     "execution_count": 455,
     "metadata": {},
     "output_type": "execute_result"
    }
   ],
   "source": [
    "df.head()"
   ]
  },
  {
   "cell_type": "code",
   "execution_count": 456,
   "metadata": {
    "collapsed": true
   },
   "outputs": [],
   "source": [
    "df['birthdate'] = pd.to_datetime(df['birthdate'])# changed the datatype of the column"
   ]
  },
  {
   "cell_type": "code",
   "execution_count": 457,
   "metadata": {
    "collapsed": true
   },
   "outputs": [],
   "source": [
    "df['year'] = df['birthdate'].dt.year#extracted the year part"
   ]
  },
  {
   "cell_type": "code",
   "execution_count": 458,
   "metadata": {
    "scrolled": true
   },
   "outputs": [
    {
     "data": {
      "text/html": [
       "<div>\n",
       "<style>\n",
       "    .dataframe thead tr:only-child th {\n",
       "        text-align: right;\n",
       "    }\n",
       "\n",
       "    .dataframe thead th {\n",
       "        text-align: left;\n",
       "    }\n",
       "\n",
       "    .dataframe tbody tr th {\n",
       "        vertical-align: top;\n",
       "    }\n",
       "</style>\n",
       "<table border=\"1\" class=\"dataframe\">\n",
       "  <thead>\n",
       "    <tr style=\"text-align: right;\">\n",
       "      <th></th>\n",
       "      <th>childid</th>\n",
       "      <th>childfirstname</th>\n",
       "      <th>childlastname</th>\n",
       "      <th>birthdate</th>\n",
       "      <th>sex</th>\n",
       "      <th>race</th>\n",
       "      <th>haircolor</th>\n",
       "      <th>eyecolor</th>\n",
       "      <th>height</th>\n",
       "      <th>weight</th>\n",
       "      <th>missingreporteddate</th>\n",
       "      <th>missingfromdate</th>\n",
       "      <th>missingfromcity</th>\n",
       "      <th>missingfromstate</th>\n",
       "      <th>missingfromcountry</th>\n",
       "      <th>ncmeccasenumber</th>\n",
       "      <th>casetype</th>\n",
       "      <th>postercontact</th>\n",
       "      <th>posterurl</th>\n",
       "      <th>year</th>\n",
       "    </tr>\n",
       "  </thead>\n",
       "  <tbody>\n",
       "    <tr>\n",
       "      <th>0</th>\n",
       "      <td>179184</td>\n",
       "      <td>Gabriela</td>\n",
       "      <td>Gonzalez</td>\n",
       "      <td>1987-09-22</td>\n",
       "      <td>Female</td>\n",
       "      <td>Hispanic</td>\n",
       "      <td>Brown</td>\n",
       "      <td>Brown</td>\n",
       "      <td>501.0</td>\n",
       "      <td>115.0</td>\n",
       "      <td>2002-04-18 14:14</td>\n",
       "      <td>2002-04-05 14:00</td>\n",
       "      <td>San Diego</td>\n",
       "      <td>CA</td>\n",
       "      <td>United States</td>\n",
       "      <td>933919</td>\n",
       "      <td>Lost Injured Missing</td>\n",
       "      <td>Chula Vista Police Department (California)  1-...</td>\n",
       "      <td>www.missingkids.org/poster/NCMC/933919/1/</td>\n",
       "      <td>1987</td>\n",
       "    </tr>\n",
       "    <tr>\n",
       "      <th>1</th>\n",
       "      <td>179604</td>\n",
       "      <td>Jahi</td>\n",
       "      <td>Turner</td>\n",
       "      <td>2000-02-10</td>\n",
       "      <td>Male</td>\n",
       "      <td>Black</td>\n",
       "      <td>Black</td>\n",
       "      <td>Brown</td>\n",
       "      <td>205.0</td>\n",
       "      <td>30.0</td>\n",
       "      <td>2002-04-26 17:10</td>\n",
       "      <td>2002-04-25 14:00</td>\n",
       "      <td>San Diego</td>\n",
       "      <td>CA</td>\n",
       "      <td>United States</td>\n",
       "      <td>934331</td>\n",
       "      <td>Lost Injured Missing</td>\n",
       "      <td>San Diego Police Department (California) 1-619...</td>\n",
       "      <td>www.missingkids.org/poster/NCMC/934331/1/</td>\n",
       "      <td>2000</td>\n",
       "    </tr>\n",
       "    <tr>\n",
       "      <th>2</th>\n",
       "      <td>181262</td>\n",
       "      <td>Jesse</td>\n",
       "      <td>Florez</td>\n",
       "      <td>1986-11-12</td>\n",
       "      <td>Male</td>\n",
       "      <td>Hispanic</td>\n",
       "      <td>Brown</td>\n",
       "      <td>Brown</td>\n",
       "      <td>411.0</td>\n",
       "      <td>120.0</td>\n",
       "      <td>2002-05-24 13:36</td>\n",
       "      <td>2001-09-14 17:00</td>\n",
       "      <td>Phoenix</td>\n",
       "      <td>AZ</td>\n",
       "      <td>United States</td>\n",
       "      <td>936029</td>\n",
       "      <td>Lost Injured Missing</td>\n",
       "      <td>Phoenix Police Department (Arizona) 1-602-262-...</td>\n",
       "      <td>www.missingkids.org/poster/NCMC/936029/1/</td>\n",
       "      <td>1986</td>\n",
       "    </tr>\n",
       "    <tr>\n",
       "      <th>3</th>\n",
       "      <td>186377</td>\n",
       "      <td>Angel</td>\n",
       "      <td>Torres-Irizarry</td>\n",
       "      <td>1974-08-27</td>\n",
       "      <td>Male</td>\n",
       "      <td>White</td>\n",
       "      <td>Blonde</td>\n",
       "      <td>Green</td>\n",
       "      <td>200.0</td>\n",
       "      <td>30.0</td>\n",
       "      <td>2002-08-02 8:53</td>\n",
       "      <td>1976-07-06 0:00</td>\n",
       "      <td>Adjuntas</td>\n",
       "      <td>PR</td>\n",
       "      <td>United States</td>\n",
       "      <td>941306</td>\n",
       "      <td>Lost Injured Missing</td>\n",
       "      <td>Department of Justicia (Puerto Rico)  1-787-72...</td>\n",
       "      <td>www.missingkids.org/poster/NCMC/941306/1/</td>\n",
       "      <td>1974</td>\n",
       "    </tr>\n",
       "    <tr>\n",
       "      <th>4</th>\n",
       "      <td>195599</td>\n",
       "      <td>Stefanie</td>\n",
       "      <td>Mills</td>\n",
       "      <td>1986-02-24</td>\n",
       "      <td>Female</td>\n",
       "      <td>Black</td>\n",
       "      <td>Black</td>\n",
       "      <td>Brown</td>\n",
       "      <td>506.0</td>\n",
       "      <td>110.0</td>\n",
       "      <td>2002-12-04 11:49</td>\n",
       "      <td>2002-03-07 14:45</td>\n",
       "      <td>Pittsburgh</td>\n",
       "      <td>PA</td>\n",
       "      <td>United States</td>\n",
       "      <td>950909</td>\n",
       "      <td>Endangered Runaway</td>\n",
       "      <td>Pittsburgh Police Department (Pennsylvania) 1-...</td>\n",
       "      <td>www.missingkids.org/poster/NCMC/950909/1/</td>\n",
       "      <td>1986</td>\n",
       "    </tr>\n",
       "  </tbody>\n",
       "</table>\n",
       "</div>"
      ],
      "text/plain": [
       "   childid childfirstname    childlastname  birthdate     sex      race  \\\n",
       "0   179184       Gabriela         Gonzalez 1987-09-22  Female  Hispanic   \n",
       "1   179604           Jahi           Turner 2000-02-10    Male     Black   \n",
       "2   181262          Jesse           Florez 1986-11-12    Male  Hispanic   \n",
       "3   186377          Angel  Torres-Irizarry 1974-08-27    Male     White   \n",
       "4   195599       Stefanie            Mills 1986-02-24  Female     Black   \n",
       "\n",
       "  haircolor eyecolor  height  weight missingreporteddate   missingfromdate  \\\n",
       "0     Brown    Brown   501.0   115.0    2002-04-18 14:14  2002-04-05 14:00   \n",
       "1     Black    Brown   205.0    30.0    2002-04-26 17:10  2002-04-25 14:00   \n",
       "2     Brown    Brown   411.0   120.0    2002-05-24 13:36  2001-09-14 17:00   \n",
       "3    Blonde    Green   200.0    30.0     2002-08-02 8:53   1976-07-06 0:00   \n",
       "4     Black    Brown   506.0   110.0    2002-12-04 11:49  2002-03-07 14:45   \n",
       "\n",
       "  missingfromcity missingfromstate missingfromcountry  ncmeccasenumber  \\\n",
       "0       San Diego               CA      United States           933919   \n",
       "1       San Diego               CA      United States           934331   \n",
       "2         Phoenix               AZ      United States           936029   \n",
       "3        Adjuntas               PR      United States           941306   \n",
       "4      Pittsburgh               PA      United States           950909   \n",
       "\n",
       "               casetype                                      postercontact  \\\n",
       "0  Lost Injured Missing  Chula Vista Police Department (California)  1-...   \n",
       "1  Lost Injured Missing  San Diego Police Department (California) 1-619...   \n",
       "2  Lost Injured Missing  Phoenix Police Department (Arizona) 1-602-262-...   \n",
       "3  Lost Injured Missing  Department of Justicia (Puerto Rico)  1-787-72...   \n",
       "4    Endangered Runaway  Pittsburgh Police Department (Pennsylvania) 1-...   \n",
       "\n",
       "                                   posterurl  year  \n",
       "0  www.missingkids.org/poster/NCMC/933919/1/  1987  \n",
       "1  www.missingkids.org/poster/NCMC/934331/1/  2000  \n",
       "2  www.missingkids.org/poster/NCMC/936029/1/  1986  \n",
       "3  www.missingkids.org/poster/NCMC/941306/1/  1974  \n",
       "4  www.missingkids.org/poster/NCMC/950909/1/  1986  "
      ]
     },
     "execution_count": 458,
     "metadata": {},
     "output_type": "execute_result"
    }
   ],
   "source": [
    "df.head()"
   ]
  },
  {
   "cell_type": "code",
   "execution_count": 459,
   "metadata": {},
   "outputs": [],
   "source": [
    "df['age']=2017-df['year']"
   ]
  },
  {
   "cell_type": "code",
   "execution_count": 460,
   "metadata": {},
   "outputs": [
    {
     "data": {
      "text/html": [
       "<div>\n",
       "<style>\n",
       "    .dataframe thead tr:only-child th {\n",
       "        text-align: right;\n",
       "    }\n",
       "\n",
       "    .dataframe thead th {\n",
       "        text-align: left;\n",
       "    }\n",
       "\n",
       "    .dataframe tbody tr th {\n",
       "        vertical-align: top;\n",
       "    }\n",
       "</style>\n",
       "<table border=\"1\" class=\"dataframe\">\n",
       "  <thead>\n",
       "    <tr style=\"text-align: right;\">\n",
       "      <th></th>\n",
       "      <th>childid</th>\n",
       "      <th>childfirstname</th>\n",
       "      <th>childlastname</th>\n",
       "      <th>birthdate</th>\n",
       "      <th>sex</th>\n",
       "      <th>race</th>\n",
       "      <th>haircolor</th>\n",
       "      <th>eyecolor</th>\n",
       "      <th>height</th>\n",
       "      <th>weight</th>\n",
       "      <th>...</th>\n",
       "      <th>missingfromdate</th>\n",
       "      <th>missingfromcity</th>\n",
       "      <th>missingfromstate</th>\n",
       "      <th>missingfromcountry</th>\n",
       "      <th>ncmeccasenumber</th>\n",
       "      <th>casetype</th>\n",
       "      <th>postercontact</th>\n",
       "      <th>posterurl</th>\n",
       "      <th>year</th>\n",
       "      <th>age</th>\n",
       "    </tr>\n",
       "  </thead>\n",
       "  <tbody>\n",
       "    <tr>\n",
       "      <th>0</th>\n",
       "      <td>179184</td>\n",
       "      <td>Gabriela</td>\n",
       "      <td>Gonzalez</td>\n",
       "      <td>1987-09-22</td>\n",
       "      <td>Female</td>\n",
       "      <td>Hispanic</td>\n",
       "      <td>Brown</td>\n",
       "      <td>Brown</td>\n",
       "      <td>501.0</td>\n",
       "      <td>115.0</td>\n",
       "      <td>...</td>\n",
       "      <td>2002-04-05 14:00</td>\n",
       "      <td>San Diego</td>\n",
       "      <td>CA</td>\n",
       "      <td>United States</td>\n",
       "      <td>933919</td>\n",
       "      <td>Lost Injured Missing</td>\n",
       "      <td>Chula Vista Police Department (California)  1-...</td>\n",
       "      <td>www.missingkids.org/poster/NCMC/933919/1/</td>\n",
       "      <td>1987</td>\n",
       "      <td>30</td>\n",
       "    </tr>\n",
       "    <tr>\n",
       "      <th>1</th>\n",
       "      <td>179604</td>\n",
       "      <td>Jahi</td>\n",
       "      <td>Turner</td>\n",
       "      <td>2000-02-10</td>\n",
       "      <td>Male</td>\n",
       "      <td>Black</td>\n",
       "      <td>Black</td>\n",
       "      <td>Brown</td>\n",
       "      <td>205.0</td>\n",
       "      <td>30.0</td>\n",
       "      <td>...</td>\n",
       "      <td>2002-04-25 14:00</td>\n",
       "      <td>San Diego</td>\n",
       "      <td>CA</td>\n",
       "      <td>United States</td>\n",
       "      <td>934331</td>\n",
       "      <td>Lost Injured Missing</td>\n",
       "      <td>San Diego Police Department (California) 1-619...</td>\n",
       "      <td>www.missingkids.org/poster/NCMC/934331/1/</td>\n",
       "      <td>2000</td>\n",
       "      <td>17</td>\n",
       "    </tr>\n",
       "    <tr>\n",
       "      <th>2</th>\n",
       "      <td>181262</td>\n",
       "      <td>Jesse</td>\n",
       "      <td>Florez</td>\n",
       "      <td>1986-11-12</td>\n",
       "      <td>Male</td>\n",
       "      <td>Hispanic</td>\n",
       "      <td>Brown</td>\n",
       "      <td>Brown</td>\n",
       "      <td>411.0</td>\n",
       "      <td>120.0</td>\n",
       "      <td>...</td>\n",
       "      <td>2001-09-14 17:00</td>\n",
       "      <td>Phoenix</td>\n",
       "      <td>AZ</td>\n",
       "      <td>United States</td>\n",
       "      <td>936029</td>\n",
       "      <td>Lost Injured Missing</td>\n",
       "      <td>Phoenix Police Department (Arizona) 1-602-262-...</td>\n",
       "      <td>www.missingkids.org/poster/NCMC/936029/1/</td>\n",
       "      <td>1986</td>\n",
       "      <td>31</td>\n",
       "    </tr>\n",
       "    <tr>\n",
       "      <th>3</th>\n",
       "      <td>186377</td>\n",
       "      <td>Angel</td>\n",
       "      <td>Torres-Irizarry</td>\n",
       "      <td>1974-08-27</td>\n",
       "      <td>Male</td>\n",
       "      <td>White</td>\n",
       "      <td>Blonde</td>\n",
       "      <td>Green</td>\n",
       "      <td>200.0</td>\n",
       "      <td>30.0</td>\n",
       "      <td>...</td>\n",
       "      <td>1976-07-06 0:00</td>\n",
       "      <td>Adjuntas</td>\n",
       "      <td>PR</td>\n",
       "      <td>United States</td>\n",
       "      <td>941306</td>\n",
       "      <td>Lost Injured Missing</td>\n",
       "      <td>Department of Justicia (Puerto Rico)  1-787-72...</td>\n",
       "      <td>www.missingkids.org/poster/NCMC/941306/1/</td>\n",
       "      <td>1974</td>\n",
       "      <td>43</td>\n",
       "    </tr>\n",
       "    <tr>\n",
       "      <th>4</th>\n",
       "      <td>195599</td>\n",
       "      <td>Stefanie</td>\n",
       "      <td>Mills</td>\n",
       "      <td>1986-02-24</td>\n",
       "      <td>Female</td>\n",
       "      <td>Black</td>\n",
       "      <td>Black</td>\n",
       "      <td>Brown</td>\n",
       "      <td>506.0</td>\n",
       "      <td>110.0</td>\n",
       "      <td>...</td>\n",
       "      <td>2002-03-07 14:45</td>\n",
       "      <td>Pittsburgh</td>\n",
       "      <td>PA</td>\n",
       "      <td>United States</td>\n",
       "      <td>950909</td>\n",
       "      <td>Endangered Runaway</td>\n",
       "      <td>Pittsburgh Police Department (Pennsylvania) 1-...</td>\n",
       "      <td>www.missingkids.org/poster/NCMC/950909/1/</td>\n",
       "      <td>1986</td>\n",
       "      <td>31</td>\n",
       "    </tr>\n",
       "  </tbody>\n",
       "</table>\n",
       "<p>5 rows × 21 columns</p>\n",
       "</div>"
      ],
      "text/plain": [
       "   childid childfirstname    childlastname  birthdate     sex      race  \\\n",
       "0   179184       Gabriela         Gonzalez 1987-09-22  Female  Hispanic   \n",
       "1   179604           Jahi           Turner 2000-02-10    Male     Black   \n",
       "2   181262          Jesse           Florez 1986-11-12    Male  Hispanic   \n",
       "3   186377          Angel  Torres-Irizarry 1974-08-27    Male     White   \n",
       "4   195599       Stefanie            Mills 1986-02-24  Female     Black   \n",
       "\n",
       "  haircolor eyecolor  height  weight ...    missingfromdate missingfromcity  \\\n",
       "0     Brown    Brown   501.0   115.0 ...   2002-04-05 14:00       San Diego   \n",
       "1     Black    Brown   205.0    30.0 ...   2002-04-25 14:00       San Diego   \n",
       "2     Brown    Brown   411.0   120.0 ...   2001-09-14 17:00         Phoenix   \n",
       "3    Blonde    Green   200.0    30.0 ...    1976-07-06 0:00        Adjuntas   \n",
       "4     Black    Brown   506.0   110.0 ...   2002-03-07 14:45      Pittsburgh   \n",
       "\n",
       "  missingfromstate missingfromcountry ncmeccasenumber              casetype  \\\n",
       "0               CA      United States          933919  Lost Injured Missing   \n",
       "1               CA      United States          934331  Lost Injured Missing   \n",
       "2               AZ      United States          936029  Lost Injured Missing   \n",
       "3               PR      United States          941306  Lost Injured Missing   \n",
       "4               PA      United States          950909    Endangered Runaway   \n",
       "\n",
       "                                       postercontact  \\\n",
       "0  Chula Vista Police Department (California)  1-...   \n",
       "1  San Diego Police Department (California) 1-619...   \n",
       "2  Phoenix Police Department (Arizona) 1-602-262-...   \n",
       "3  Department of Justicia (Puerto Rico)  1-787-72...   \n",
       "4  Pittsburgh Police Department (Pennsylvania) 1-...   \n",
       "\n",
       "                                   posterurl  year  age  \n",
       "0  www.missingkids.org/poster/NCMC/933919/1/  1987   30  \n",
       "1  www.missingkids.org/poster/NCMC/934331/1/  2000   17  \n",
       "2  www.missingkids.org/poster/NCMC/936029/1/  1986   31  \n",
       "3  www.missingkids.org/poster/NCMC/941306/1/  1974   43  \n",
       "4  www.missingkids.org/poster/NCMC/950909/1/  1986   31  \n",
       "\n",
       "[5 rows x 21 columns]"
      ]
     },
     "execution_count": 460,
     "metadata": {},
     "output_type": "execute_result"
    }
   ],
   "source": [
    "df.head()"
   ]
  },
  {
   "cell_type": "code",
   "execution_count": 461,
   "metadata": {},
   "outputs": [
    {
     "data": {
      "text/plain": [
       "array([30, 17, 31, 43, 67, 20, 24, 19, 57, 28, 23, 27, 56, 15, 18, 16, 38,\n",
       "       25, 29, 26, 12, 14, 21, 11, 55, 53, 54, 13, 62, 10,  9, 69, 64, 40,\n",
       "       50, 58, 35,  8, 44, 59, 60, 47, 61, 34, 68, 41, 45, 87, 46, 65, 48,\n",
       "       49, 52, 36, 33, 39, 71, 42, 37, 66, 51, 63, 32,  6, 22, 84,  7,  5,\n",
       "       75,  4,  3, 77, 70,  1,  2], dtype=int64)"
      ]
     },
     "execution_count": 461,
     "metadata": {},
     "output_type": "execute_result"
    }
   ],
   "source": [
    "df.age.unique()"
   ]
  },
  {
   "cell_type": "markdown",
   "metadata": {},
   "source": [
    "## Missing Ratio of Young & Adults"
   ]
  },
  {
   "cell_type": "code",
   "execution_count": 462,
   "metadata": {},
   "outputs": [
    {
     "data": {
      "text/plain": [
       "20.338929695697797"
      ]
     },
     "execution_count": 462,
     "metadata": {},
     "output_type": "execute_result"
    }
   ],
   "source": [
    "\n",
    "mean = sum(df[\"age\"])/len(df) #making a separate column for young and adults based on the age column\n",
    "mean"
   ]
  },
  {
   "cell_type": "code",
   "execution_count": 463,
   "metadata": {
    "collapsed": true
   },
   "outputs": [],
   "source": [
    "df[\"age_groups\"]='Young'\n",
    "for row in df.itertuples():\n",
    "    if(row.age>=mean):\n",
    "        df.loc[row.Index, \"age_groups\"]='Adults'"
   ]
  },
  {
   "cell_type": "code",
   "execution_count": 464,
   "metadata": {},
   "outputs": [
    {
     "data": {
      "text/html": [
       "<div>\n",
       "<style>\n",
       "    .dataframe thead tr:only-child th {\n",
       "        text-align: right;\n",
       "    }\n",
       "\n",
       "    .dataframe thead th {\n",
       "        text-align: left;\n",
       "    }\n",
       "\n",
       "    .dataframe tbody tr th {\n",
       "        vertical-align: top;\n",
       "    }\n",
       "</style>\n",
       "<table border=\"1\" class=\"dataframe\">\n",
       "  <thead>\n",
       "    <tr style=\"text-align: right;\">\n",
       "      <th></th>\n",
       "      <th>age</th>\n",
       "      <th>age_groups</th>\n",
       "    </tr>\n",
       "  </thead>\n",
       "  <tbody>\n",
       "    <tr>\n",
       "      <th>0</th>\n",
       "      <td>30</td>\n",
       "      <td>Adults</td>\n",
       "    </tr>\n",
       "    <tr>\n",
       "      <th>1</th>\n",
       "      <td>17</td>\n",
       "      <td>Young</td>\n",
       "    </tr>\n",
       "    <tr>\n",
       "      <th>2</th>\n",
       "      <td>31</td>\n",
       "      <td>Adults</td>\n",
       "    </tr>\n",
       "    <tr>\n",
       "      <th>3</th>\n",
       "      <td>43</td>\n",
       "      <td>Adults</td>\n",
       "    </tr>\n",
       "    <tr>\n",
       "      <th>4</th>\n",
       "      <td>31</td>\n",
       "      <td>Adults</td>\n",
       "    </tr>\n",
       "  </tbody>\n",
       "</table>\n",
       "</div>"
      ],
      "text/plain": [
       "   age age_groups\n",
       "0   30     Adults\n",
       "1   17      Young\n",
       "2   31     Adults\n",
       "3   43     Adults\n",
       "4   31     Adults"
      ]
     },
     "execution_count": 464,
     "metadata": {},
     "output_type": "execute_result"
    }
   ],
   "source": [
    "extracted_data = df.ix[:,['age','age_groups']]\n",
    "extracted_data.head()"
   ]
  },
  {
   "cell_type": "code",
   "execution_count": 465,
   "metadata": {},
   "outputs": [
    {
     "data": {
      "image/png": "[encoded data removed]",
      "text/plain": [
       "<matplotlib.figure.Figure at 0x23800ccc400>"
      ]
     },
     "metadata": {},
     "output_type": "display_data"
    }
   ],
   "source": [
    "# Barplot representation showing whether young children are missing more or adults are missing\n",
    "\n",
    "plt.subplots(figsize=(8,8))\n",
    "sns.countplot(x=\"age_groups\", data=extracted_data, palette=\"Set3\")\n",
    "plt.title(\"Number of Missing Children-Young vs Adults\")\n",
    "plt.show()"
   ]
  },
  {
   "cell_type": "code",
   "execution_count": 466,
   "metadata": {},
   "outputs": [
    {
     "data": {
      "image/png": "[encoded data removed]",
      "text/plain": [
       "<matplotlib.figure.Figure at 0x238019ae9b0>"
      ]
     },
     "metadata": {},
     "output_type": "display_data"
    }
   ],
   "source": [
    "#casetypes and the number of young and adults missing in each casetypes\n",
    "plt.subplots(figsize=(10,8))\n",
    "sns.countplot(y=\"casetype\", data=df, hue=\"age_groups\",palette=\"Set2\");\n",
    "plt.title(\"Casetype of Missing Young and Adults\")\n",
    "plt.show()"
   ]
  },
  {
   "cell_type": "markdown",
   "metadata": {},
   "source": [
    "Young children who are of 20 or below 20 years of age are missing more as compared to adults and those young children are missing because they ran away from their families"
   ]
  },
  {
   "cell_type": "markdown",
   "metadata": {},
   "source": [
    "## Ratio of Male & Female Missing"
   ]
  },
  {
   "cell_type": "code",
   "execution_count": 467,
   "metadata": {},
   "outputs": [
    {
     "data": {
      "text/html": [
       "<div>\n",
       "<style>\n",
       "    .dataframe thead tr:only-child th {\n",
       "        text-align: right;\n",
       "    }\n",
       "\n",
       "    .dataframe thead th {\n",
       "        text-align: left;\n",
       "    }\n",
       "\n",
       "    .dataframe tbody tr th {\n",
       "        vertical-align: top;\n",
       "    }\n",
       "</style>\n",
       "<table border=\"1\" class=\"dataframe\">\n",
       "  <thead>\n",
       "    <tr style=\"text-align: right;\">\n",
       "      <th></th>\n",
       "      <th>sex</th>\n",
       "      <th>count</th>\n",
       "    </tr>\n",
       "  </thead>\n",
       "  <tbody>\n",
       "    <tr>\n",
       "      <th>0</th>\n",
       "      <td>Female</td>\n",
       "      <td>1234</td>\n",
       "    </tr>\n",
       "    <tr>\n",
       "      <th>1</th>\n",
       "      <td>Male</td>\n",
       "      <td>672</td>\n",
       "    </tr>\n",
       "  </tbody>\n",
       "</table>\n",
       "</div>"
      ],
      "text/plain": [
       "      sex  count\n",
       "0  Female   1234\n",
       "1    Male    672"
      ]
     },
     "execution_count": 467,
     "metadata": {},
     "output_type": "execute_result"
    }
   ],
   "source": [
    "#count of males or females missing the most\n",
    "c = pd.DataFrame(df.sex.value_counts())\n",
    "c.reset_index(inplace=True)\n",
    "c.columns = ['sex','count']\n",
    "c"
   ]
  },
  {
   "cell_type": "code",
   "execution_count": 468,
   "metadata": {},
   "outputs": [
    {
     "data": {
      "image/png": "[encoded data removed]",
      "text/plain": [
       "<matplotlib.figure.Figure at 0x2380016ae80>"
      ]
     },
     "metadata": {},
     "output_type": "display_data"
    }
   ],
   "source": [
    "#donut chart displaying the ratio of males and females missing\n",
    "labels = c['sex']\n",
    "sizes = c['count']\n",
    "colors = ['#ff9999','#66b3ff']\n",
    "fig, ax = plt.subplots()\n",
    "ax.pie(sizes, colors = colors, labels=labels, autopct='%1.1f%%', startangle=90)\n",
    "\n",
    "#draw circle\n",
    "centre_circle = plt.Circle((0,0),0.80,fc='white')\n",
    "fig = plt.gcf()\n",
    "fig.gca().add_artist(centre_circle)\n",
    "\n",
    "# Equal aspect ratio ensures that pie is drawn as a circle\n",
    "ax.axis('equal')  \n",
    "plt.tight_layout()\n",
    "plt.title(\"Percentage of Missing Males and Females\")\n",
    "plt.show()\n"
   ]
  },
  {
   "cell_type": "markdown",
   "metadata": {},
   "source": [
    "Females are missing more than the males"
   ]
  },
  {
   "cell_type": "code",
   "execution_count": 469,
   "metadata": {
    "collapsed": true
   },
   "outputs": [],
   "source": [
    "#filtering the data having young males and females to check the number of missing young ones\n",
    "fem =df[df.sex == 'Female']\n",
    "fy=fem[fem.age_groups == 'Young']\n",
    "mal =df[df.sex == 'Male']\n",
    "my=mal[mal.age_groups == 'Young']"
   ]
  },
  {
   "cell_type": "code",
   "execution_count": 470,
   "metadata": {},
   "outputs": [
    {
     "data": {
      "image/png": "[encoded data removed]",
      "text/plain": [
       "<matplotlib.figure.Figure at 0x23800cfedd8>"
      ]
     },
     "metadata": {},
     "output_type": "display_data"
    }
   ],
   "source": [
    "#plot showing the distribution of young males and females according to the age\n",
    "plt.subplots(figsize=(8,8))\n",
    "sns.stripplot(x=\"sex\", y=\"age\", data=df);\n",
    "plt.show()"
   ]
  },
  {
   "cell_type": "markdown",
   "metadata": {},
   "source": [
    "Children falling in the age_group of below 20 years are missing more as compared to the one above 20 years of age"
   ]
  },
  {
   "cell_type": "markdown",
   "metadata": {},
   "source": [
    "## Checking the year and month in which children are missing"
   ]
  },
  {
   "cell_type": "code",
   "execution_count": 471,
   "metadata": {
    "collapsed": true
   },
   "outputs": [],
   "source": [
    "df['missingfromdate'] = pd.to_datetime(df['missingfromdate'])"
   ]
  },
  {
   "cell_type": "code",
   "execution_count": 472,
   "metadata": {},
   "outputs": [
    {
     "data": {
      "text/plain": [
       "0    2002\n",
       "1    2002\n",
       "2    2001\n",
       "3    1976\n",
       "4    2002\n",
       "Name: missingfromdate, dtype: int64"
      ]
     },
     "execution_count": 472,
     "metadata": {},
     "output_type": "execute_result"
    }
   ],
   "source": [
    "df.missingfromdate.dt.year.head()"
   ]
  },
  {
   "cell_type": "code",
   "execution_count": 473,
   "metadata": {
    "collapsed": true
   },
   "outputs": [],
   "source": [
    "df['missingyear']=df.missingfromdate.dt.year"
   ]
  },
  {
   "cell_type": "code",
   "execution_count": 474,
   "metadata": {
    "collapsed": true
   },
   "outputs": [],
   "source": [
    "df['missingmonth']=df.missingfromdate.dt.month"
   ]
  },
  {
   "cell_type": "code",
   "execution_count": 475,
   "metadata": {},
   "outputs": [
    {
     "data": {
      "image/png": "[encoded data removed]",
      "text/plain": [
       "<matplotlib.figure.Figure at 0x23800cb8978>"
      ]
     },
     "metadata": {},
     "output_type": "display_data"
    }
   ],
   "source": [
    "#Trend of Missing Children with Year\n",
    "plt.subplots(figsize=(8,8))\n",
    "df.missingyear.value_counts().sort_index().plot(lw=3,color=\"salmon\")\n",
    "plt.title(\"Missing Children\")\n",
    "plt.xlabel('Missing Year')\n",
    "plt.ylabel('Number of Children Missing')\n",
    "plt.show()"
   ]
  },
  {
   "cell_type": "markdown",
   "metadata": {},
   "source": [
    "The children were observed missing from the year 2010 and has been increasing till 2017."
   ]
  },
  {
   "cell_type": "code",
   "execution_count": 476,
   "metadata": {},
   "outputs": [
    {
     "data": {
      "image/png": "[encoded data removed]",
      "text/plain": [
       "<matplotlib.figure.Figure at 0x2387db72198>"
      ]
     },
     "metadata": {},
     "output_type": "display_data"
    }
   ],
   "source": [
    "#Trend of Missing Children with Month\n",
    "plt.subplots(figsize=(8,8))\n",
    "df.missingmonth.value_counts().sort_index().plot(lw=3,color=\"green\")\n",
    "plt.title(\"Missing Children\")\n",
    "plt.xlabel('Missing Year')\n",
    "plt.ylabel('Number of Children Missing')\n",
    "plt.show()"
   ]
  },
  {
   "cell_type": "markdown",
   "metadata": {},
   "source": [
    "The children are missing more in the month of Jan and Feb and later, the trend of missing decreases and increases towards the end of the year."
   ]
  },
  {
   "cell_type": "code",
   "execution_count": 477,
   "metadata": {},
   "outputs": [
    {
     "data": {
      "text/html": [
       "<div>\n",
       "<style>\n",
       "    .dataframe thead tr:only-child th {\n",
       "        text-align: right;\n",
       "    }\n",
       "\n",
       "    .dataframe thead th {\n",
       "        text-align: left;\n",
       "    }\n",
       "\n",
       "    .dataframe tbody tr th {\n",
       "        vertical-align: top;\n",
       "    }\n",
       "</style>\n",
       "<table border=\"1\" class=\"dataframe\">\n",
       "  <thead>\n",
       "    <tr style=\"text-align: right;\">\n",
       "      <th></th>\n",
       "      <th>missingyear</th>\n",
       "      <th>count</th>\n",
       "    </tr>\n",
       "  </thead>\n",
       "  <tbody>\n",
       "    <tr>\n",
       "      <th>0</th>\n",
       "      <td>2016</td>\n",
       "      <td>805</td>\n",
       "    </tr>\n",
       "    <tr>\n",
       "      <th>1</th>\n",
       "      <td>2017</td>\n",
       "      <td>233</td>\n",
       "    </tr>\n",
       "    <tr>\n",
       "      <th>2</th>\n",
       "      <td>2015</td>\n",
       "      <td>201</td>\n",
       "    </tr>\n",
       "    <tr>\n",
       "      <th>3</th>\n",
       "      <td>2014</td>\n",
       "      <td>86</td>\n",
       "    </tr>\n",
       "    <tr>\n",
       "      <th>4</th>\n",
       "      <td>2011</td>\n",
       "      <td>66</td>\n",
       "    </tr>\n",
       "  </tbody>\n",
       "</table>\n",
       "</div>"
      ],
      "text/plain": [
       "   missingyear  count\n",
       "0         2016    805\n",
       "1         2017    233\n",
       "2         2015    201\n",
       "3         2014     86\n",
       "4         2011     66"
      ]
     },
     "execution_count": 477,
     "metadata": {},
     "output_type": "execute_result"
    }
   ],
   "source": [
    "#Taking the one casetype only\n",
    "dhkl =df[df.casetype == 'Endangered Runaway']\n",
    "h = pd.DataFrame(dhkl.missingyear.value_counts())\n",
    "h.reset_index(inplace=True)\n",
    "h.columns = ['casetype','count']\n",
    "h.head()"
   ]
  },
  {
   "cell_type": "code",
   "execution_count": 504,
   "metadata": {},
   "outputs": [
    {
     "data": {
      "image/png": "[encoded data removed]",
      "text/plain": [
       "<matplotlib.figure.Figure at 0x238019dfb70>"
      ]
     },
     "metadata": {},
     "output_type": "display_data"
    }
   ],
   "source": [
    "#point plot\n",
    "plt.subplots(figsize=(10,8))\n",
    "sns.pointplot(x=\"casetype\", y=\"count\", data=h[1:10]);\n",
    "plt.title(\"Missing Reports Under the case of runaways by year\")\n",
    "plt.show()"
   ]
  },
  {
   "cell_type": "markdown",
   "metadata": {},
   "source": [
    "The cases where children ran away from their families have increased continously."
   ]
  },
  {
   "cell_type": "markdown",
   "metadata": {},
   "source": [
    "## Children of Which Race are missing most"
   ]
  },
  {
   "cell_type": "code",
   "execution_count": 298,
   "metadata": {},
   "outputs": [
    {
     "data": {
      "text/html": [
       "<div>\n",
       "<style>\n",
       "    .dataframe thead tr:only-child th {\n",
       "        text-align: right;\n",
       "    }\n",
       "\n",
       "    .dataframe thead th {\n",
       "        text-align: left;\n",
       "    }\n",
       "\n",
       "    .dataframe tbody tr th {\n",
       "        vertical-align: top;\n",
       "    }\n",
       "</style>\n",
       "<table border=\"1\" class=\"dataframe\">\n",
       "  <thead>\n",
       "    <tr style=\"text-align: right;\">\n",
       "      <th></th>\n",
       "      <th>race</th>\n",
       "      <th>count</th>\n",
       "    </tr>\n",
       "  </thead>\n",
       "  <tbody>\n",
       "    <tr>\n",
       "      <th>0</th>\n",
       "      <td>White</td>\n",
       "      <td>675</td>\n",
       "    </tr>\n",
       "    <tr>\n",
       "      <th>1</th>\n",
       "      <td>Hispanic</td>\n",
       "      <td>561</td>\n",
       "    </tr>\n",
       "    <tr>\n",
       "      <th>2</th>\n",
       "      <td>Black</td>\n",
       "      <td>383</td>\n",
       "    </tr>\n",
       "    <tr>\n",
       "      <th>3</th>\n",
       "      <td>Biracial</td>\n",
       "      <td>220</td>\n",
       "    </tr>\n",
       "    <tr>\n",
       "      <th>4</th>\n",
       "      <td>Asian</td>\n",
       "      <td>38</td>\n",
       "    </tr>\n",
       "    <tr>\n",
       "      <th>5</th>\n",
       "      <td>Am. Ind.</td>\n",
       "      <td>23</td>\n",
       "    </tr>\n",
       "    <tr>\n",
       "      <th>6</th>\n",
       "      <td>Pacific Islander</td>\n",
       "      <td>6</td>\n",
       "    </tr>\n",
       "  </tbody>\n",
       "</table>\n",
       "</div>"
      ],
      "text/plain": [
       "               race  count\n",
       "0             White    675\n",
       "1          Hispanic    561\n",
       "2             Black    383\n",
       "3          Biracial    220\n",
       "4             Asian     38\n",
       "5          Am. Ind.     23\n",
       "6  Pacific Islander      6"
      ]
     },
     "execution_count": 298,
     "metadata": {},
     "output_type": "execute_result"
    }
   ],
   "source": [
    "df_donut = pd.DataFrame(df.race.value_counts())\n",
    "df_donut.reset_index(inplace=True)\n",
    "df_donut.columns = ['race','count']\n",
    "df_donut"
   ]
  },
  {
   "cell_type": "code",
   "execution_count": 299,
   "metadata": {},
   "outputs": [
    {
     "data": {
      "image/png": "[encoded data removed]",
      "text/plain": [
       "<matplotlib.figure.Figure at 0x23800758438>"
      ]
     },
     "metadata": {},
     "output_type": "display_data"
    }
   ],
   "source": [
    "#checking which race has most missing children\n",
    "plt.subplots(figsize=(10,6))\n",
    "sns.barplot( y=\"race\",x=\"count\",data=df_donut,palette=\"Set3\");\n",
    "plt.title(\"Number of Children Missing In Each Race\")\n",
    "plt.ylabel(\"Type of Race\")\n",
    "plt.xlabel(\"Count of Missing Children\")\n",
    "plt.show()"
   ]
  },
  {
   "cell_type": "markdown",
   "metadata": {},
   "source": [
    "Children falling belonging to White race are missing the most in US."
   ]
  },
  {
   "cell_type": "markdown",
   "metadata": {},
   "source": [
    "## Number of Males and Females Missing In Each Race"
   ]
  },
  {
   "cell_type": "code",
   "execution_count": 300,
   "metadata": {},
   "outputs": [
    {
     "data": {
      "text/html": [
       "<div>\n",
       "<style>\n",
       "    .dataframe thead tr:only-child th {\n",
       "        text-align: right;\n",
       "    }\n",
       "\n",
       "    .dataframe thead th {\n",
       "        text-align: left;\n",
       "    }\n",
       "\n",
       "    .dataframe tbody tr th {\n",
       "        vertical-align: top;\n",
       "    }\n",
       "</style>\n",
       "<table border=\"1\" class=\"dataframe\">\n",
       "  <thead>\n",
       "    <tr style=\"text-align: right;\">\n",
       "      <th></th>\n",
       "      <th>race</th>\n",
       "      <th>count</th>\n",
       "    </tr>\n",
       "  </thead>\n",
       "  <tbody>\n",
       "    <tr>\n",
       "      <th>0</th>\n",
       "      <td>White</td>\n",
       "      <td>414</td>\n",
       "    </tr>\n",
       "    <tr>\n",
       "      <th>1</th>\n",
       "      <td>Hispanic</td>\n",
       "      <td>369</td>\n",
       "    </tr>\n",
       "    <tr>\n",
       "      <th>2</th>\n",
       "      <td>Black</td>\n",
       "      <td>280</td>\n",
       "    </tr>\n",
       "    <tr>\n",
       "      <th>3</th>\n",
       "      <td>Biracial</td>\n",
       "      <td>131</td>\n",
       "    </tr>\n",
       "    <tr>\n",
       "      <th>4</th>\n",
       "      <td>Asian</td>\n",
       "      <td>21</td>\n",
       "    </tr>\n",
       "    <tr>\n",
       "      <th>5</th>\n",
       "      <td>Am. Ind.</td>\n",
       "      <td>13</td>\n",
       "    </tr>\n",
       "    <tr>\n",
       "      <th>6</th>\n",
       "      <td>Pacific Islander</td>\n",
       "      <td>6</td>\n",
       "    </tr>\n",
       "  </tbody>\n",
       "</table>\n",
       "</div>"
      ],
      "text/plain": [
       "               race  count\n",
       "0             White    414\n",
       "1          Hispanic    369\n",
       "2             Black    280\n",
       "3          Biracial    131\n",
       "4             Asian     21\n",
       "5          Am. Ind.     13\n",
       "6  Pacific Islander      6"
      ]
     },
     "execution_count": 300,
     "metadata": {},
     "output_type": "execute_result"
    }
   ],
   "source": [
    "female_df =df[df.sex == 'Female']\n",
    "df_female = pd.DataFrame(female_df.race.value_counts())\n",
    "df_female.reset_index(inplace=True)\n",
    "df_female.columns = ['race','count']\n",
    "df_female"
   ]
  },
  {
   "cell_type": "code",
   "execution_count": 301,
   "metadata": {},
   "outputs": [
    {
     "data": {
      "text/html": [
       "<div>\n",
       "<style>\n",
       "    .dataframe thead tr:only-child th {\n",
       "        text-align: right;\n",
       "    }\n",
       "\n",
       "    .dataframe thead th {\n",
       "        text-align: left;\n",
       "    }\n",
       "\n",
       "    .dataframe tbody tr th {\n",
       "        vertical-align: top;\n",
       "    }\n",
       "</style>\n",
       "<table border=\"1\" class=\"dataframe\">\n",
       "  <thead>\n",
       "    <tr style=\"text-align: right;\">\n",
       "      <th></th>\n",
       "      <th>race</th>\n",
       "      <th>count</th>\n",
       "    </tr>\n",
       "  </thead>\n",
       "  <tbody>\n",
       "    <tr>\n",
       "      <th>0</th>\n",
       "      <td>White</td>\n",
       "      <td>261</td>\n",
       "    </tr>\n",
       "    <tr>\n",
       "      <th>1</th>\n",
       "      <td>Hispanic</td>\n",
       "      <td>192</td>\n",
       "    </tr>\n",
       "    <tr>\n",
       "      <th>2</th>\n",
       "      <td>Black</td>\n",
       "      <td>103</td>\n",
       "    </tr>\n",
       "    <tr>\n",
       "      <th>3</th>\n",
       "      <td>Biracial</td>\n",
       "      <td>89</td>\n",
       "    </tr>\n",
       "    <tr>\n",
       "      <th>4</th>\n",
       "      <td>Asian</td>\n",
       "      <td>17</td>\n",
       "    </tr>\n",
       "    <tr>\n",
       "      <th>5</th>\n",
       "      <td>Am. Ind.</td>\n",
       "      <td>10</td>\n",
       "    </tr>\n",
       "  </tbody>\n",
       "</table>\n",
       "</div>"
      ],
      "text/plain": [
       "       race  count\n",
       "0     White    261\n",
       "1  Hispanic    192\n",
       "2     Black    103\n",
       "3  Biracial     89\n",
       "4     Asian     17\n",
       "5  Am. Ind.     10"
      ]
     },
     "execution_count": 301,
     "metadata": {},
     "output_type": "execute_result"
    }
   ],
   "source": [
    "male_df =df[df.sex == 'Male']\n",
    "male_df = pd.DataFrame(male_df.race.value_counts())\n",
    "male_df.reset_index(inplace=True)\n",
    "male_df.columns = ['race','count']\n",
    "male_df"
   ]
  },
  {
   "cell_type": "code",
   "execution_count": 303,
   "metadata": {},
   "outputs": [
    {
     "data": {
      "image/png": "[encoded data removed]",
      "text/plain": [
       "<matplotlib.figure.Figure at 0x2387e43ed68>"
      ]
     },
     "metadata": {},
     "output_type": "display_data"
    }
   ],
   "source": [
    "sns.set()\n",
    "male_df.set_index('race').T.plot(kind=\"bar\",stacked=True, figsize=(10,6),colormap=ListedColormap(sns.color_palette(\"Set2\", 10)));\n",
    "plt.title(\"Number of Males Missing In Each Race\")\n",
    "plt.ylabel(\"Type of Race\")\n",
    "plt.xlabel(\"Count of Missing Children\")\n",
    "plt.show()"
   ]
  },
  {
   "cell_type": "code",
   "execution_count": 304,
   "metadata": {},
   "outputs": [
    {
     "data": {
      "image/png": "[encoded data removed]",
      "text/plain": [
       "<matplotlib.figure.Figure at 0x238008406a0>"
      ]
     },
     "metadata": {},
     "output_type": "display_data"
    }
   ],
   "source": [
    "sns.set()\n",
    "df_female.set_index('race').T.plot(kind=\"bar\",stacked=True, figsize=(10,6),colormap=ListedColormap(sns.color_palette(\"Paired\", 10)));\n",
    "plt.title(\"Number of Females Missing In Each Race\")\n",
    "plt.ylabel(\"Type of Race\")\n",
    "plt.xlabel(\"Count of Missing Children\")\n",
    "plt.show()"
   ]
  },
  {
   "cell_type": "markdown",
   "metadata": {},
   "source": [
    "For both males and females, the count of missing children is more for White race."
   ]
  },
  {
   "cell_type": "markdown",
   "metadata": {},
   "source": [
    "## Haircolor and Eyecolor of Missing Children"
   ]
  },
  {
   "cell_type": "code",
   "execution_count": 359,
   "metadata": {
    "collapsed": true
   },
   "outputs": [],
   "source": [
    "#code for showing the count of children with different hair and eye color\n",
    "dfg = pd.DataFrame(df.haircolor.value_counts())\n",
    "dfg.reset_index(inplace=True)\n",
    "dfg.columns = ['haircolor','count']\n",
    "\n",
    "dfe = pd.DataFrame(df.eyecolor.value_counts())\n",
    "dfe.reset_index(inplace=True)\n",
    "dfe.columns = ['eyecolor','count']\n"
   ]
  },
  {
   "cell_type": "code",
   "execution_count": 368,
   "metadata": {},
   "outputs": [
    {
     "data": {
      "image/png": "[encoded data removed]",
      "text/plain": [
       "<matplotlib.figure.Figure at 0x238015e1470>"
      ]
     },
     "metadata": {},
     "output_type": "display_data"
    },
    {
     "data": {
      "image/png": "[encoded data removed]",
      "text/plain": [
       "<matplotlib.figure.Figure at 0x2380002a6d8>"
      ]
     },
     "metadata": {},
     "output_type": "display_data"
    }
   ],
   "source": [
    "plt.subplots(figsize=(10,6))\n",
    "sns.barplot( x=\"haircolor\",y=\"count\",data=dfg,palette=\"coolwarm\");\n",
    "plt.title(\"Number of Children Missing\")\n",
    "plt.ylabel(\"Types of Haircolor\")\n",
    "plt.xlabel(\"Count of Missing Children\")\n",
    "plt.show()\n",
    "\n",
    "plt.subplots(figsize=(10,6))\n",
    "sns.barplot( x=\"eyecolor\",y=\"count\",data=dfe,palette=\"cubehelix\");\n",
    "plt.title(\"Number of Children Missing\")\n",
    "plt.ylabel(\"Types of Eyecolor\")\n",
    "plt.xlabel(\"Count of Missing Children\")\n",
    "plt.show()"
   ]
  },
  {
   "cell_type": "markdown",
   "metadata": {},
   "source": [
    "## Height and Weight of the Missing Children"
   ]
  },
  {
   "cell_type": "markdown",
   "metadata": {},
   "source": [
    "Whenever a missing report is filed for a child, the height and weight are noted down as they play an important role in locating the missing person."
   ]
  },
  {
   "cell_type": "code",
   "execution_count": 307,
   "metadata": {},
   "outputs": [
    {
     "data": {
      "text/html": [
       "<div>\n",
       "<style>\n",
       "    .dataframe thead tr:only-child th {\n",
       "        text-align: right;\n",
       "    }\n",
       "\n",
       "    .dataframe thead th {\n",
       "        text-align: left;\n",
       "    }\n",
       "\n",
       "    .dataframe tbody tr th {\n",
       "        vertical-align: top;\n",
       "    }\n",
       "</style>\n",
       "<table border=\"1\" class=\"dataframe\">\n",
       "  <thead>\n",
       "    <tr style=\"text-align: right;\">\n",
       "      <th></th>\n",
       "      <th>height</th>\n",
       "      <th>count</th>\n",
       "    </tr>\n",
       "  </thead>\n",
       "  <tbody>\n",
       "    <tr>\n",
       "      <th>0</th>\n",
       "      <td>504.0</td>\n",
       "      <td>199</td>\n",
       "    </tr>\n",
       "    <tr>\n",
       "      <th>1</th>\n",
       "      <td>505.0</td>\n",
       "      <td>178</td>\n",
       "    </tr>\n",
       "    <tr>\n",
       "      <th>2</th>\n",
       "      <td>506.0</td>\n",
       "      <td>168</td>\n",
       "    </tr>\n",
       "    <tr>\n",
       "      <th>3</th>\n",
       "      <td>503.0</td>\n",
       "      <td>161</td>\n",
       "    </tr>\n",
       "    <tr>\n",
       "      <th>4</th>\n",
       "      <td>502.0</td>\n",
       "      <td>139</td>\n",
       "    </tr>\n",
       "  </tbody>\n",
       "</table>\n",
       "</div>"
      ],
      "text/plain": [
       "   height  count\n",
       "0   504.0    199\n",
       "1   505.0    178\n",
       "2   506.0    168\n",
       "3   503.0    161\n",
       "4   502.0    139"
      ]
     },
     "execution_count": 307,
     "metadata": {},
     "output_type": "execute_result"
    }
   ],
   "source": [
    "dfht = pd.DataFrame(df.height.value_counts())\n",
    "dfht.reset_index(inplace=True)\n",
    "dfht.columns = ['height','count']\n",
    "dfht.head()"
   ]
  },
  {
   "cell_type": "code",
   "execution_count": 308,
   "metadata": {},
   "outputs": [
    {
     "data": {
      "text/html": [
       "<div>\n",
       "<style>\n",
       "    .dataframe thead tr:only-child th {\n",
       "        text-align: right;\n",
       "    }\n",
       "\n",
       "    .dataframe thead th {\n",
       "        text-align: left;\n",
       "    }\n",
       "\n",
       "    .dataframe tbody tr th {\n",
       "        vertical-align: top;\n",
       "    }\n",
       "</style>\n",
       "<table border=\"1\" class=\"dataframe\">\n",
       "  <thead>\n",
       "    <tr style=\"text-align: right;\">\n",
       "      <th></th>\n",
       "      <th>weight</th>\n",
       "      <th>count</th>\n",
       "    </tr>\n",
       "  </thead>\n",
       "  <tbody>\n",
       "    <tr>\n",
       "      <th>0</th>\n",
       "      <td>120.0</td>\n",
       "      <td>161</td>\n",
       "    </tr>\n",
       "    <tr>\n",
       "      <th>1</th>\n",
       "      <td>130.0</td>\n",
       "      <td>143</td>\n",
       "    </tr>\n",
       "    <tr>\n",
       "      <th>2</th>\n",
       "      <td>140.0</td>\n",
       "      <td>126</td>\n",
       "    </tr>\n",
       "    <tr>\n",
       "      <th>3</th>\n",
       "      <td>150.0</td>\n",
       "      <td>108</td>\n",
       "    </tr>\n",
       "    <tr>\n",
       "      <th>4</th>\n",
       "      <td>110.0</td>\n",
       "      <td>99</td>\n",
       "    </tr>\n",
       "  </tbody>\n",
       "</table>\n",
       "</div>"
      ],
      "text/plain": [
       "   weight  count\n",
       "0   120.0    161\n",
       "1   130.0    143\n",
       "2   140.0    126\n",
       "3   150.0    108\n",
       "4   110.0     99"
      ]
     },
     "execution_count": 308,
     "metadata": {},
     "output_type": "execute_result"
    }
   ],
   "source": [
    "dfwt = pd.DataFrame(df.weight.value_counts())\n",
    "dfwt.reset_index(inplace=True)\n",
    "dfwt.columns = ['weight','count']\n",
    "dfwt.head()"
   ]
  },
  {
   "cell_type": "code",
   "execution_count": 309,
   "metadata": {},
   "outputs": [
    {
     "data": {
      "image/png": "[encoded data removed]",
      "text/plain": [
       "<matplotlib.figure.Figure at 0x23800132b38>"
      ]
     },
     "metadata": {},
     "output_type": "display_data"
    },
    {
     "data": {
      "image/png": "[encoded data removed]",
      "text/plain": [
       "<matplotlib.figure.Figure at 0x23800073dd8>"
      ]
     },
     "metadata": {},
     "output_type": "display_data"
    }
   ],
   "source": [
    "#plot showing the distribution of height in the dataset\n",
    "plt.subplots(figsize=(10,6))\n",
    "data = df['height']\n",
    "sns.distplot(data, hist=False)\n",
    "#dfht['count'].plot(kind=\"density\")\n",
    "plt.show()\n",
    "\n",
    "#plot showing the distribution of weight in the dataset\n",
    "plt.subplots(figsize=(10,6))\n",
    "data1 = df['weight']\n",
    "sns.distplot(data1, hist=True,color=\"green\")\n",
    "plt.show()"
   ]
  },
  {
   "cell_type": "code",
   "execution_count": 521,
   "metadata": {},
   "outputs": [
    {
     "data": {
      "image/png": "[encoded data removed]",
      "text/plain": [
       "<matplotlib.figure.Figure at 0x23800cb82b0>"
      ]
     },
     "metadata": {},
     "output_type": "display_data"
    }
   ],
   "source": [
    "plt.subplots(figsize=(10,8))\n",
    "sns.boxplot(x=\"sex\", y=\"weight\",data=df,palette=\"RdBu_r\");\n",
    "plt.title(\"Boxplot showing the distribution of weight of Males and Females\")\n",
    "plt.show()"
   ]
  },
  {
   "cell_type": "code",
   "execution_count": 522,
   "metadata": {},
   "outputs": [
    {
     "data": {
      "image/png": "[encoded data removed]",
      "text/plain": [
       "<matplotlib.figure.Figure at 0x238011fdc88>"
      ]
     },
     "metadata": {},
     "output_type": "display_data"
    }
   ],
   "source": [
    "plt.subplots(figsize=(10,5))\n",
    "sns.violinplot(x=\"sex\", y=\"height\",data=df);\n",
    "plt.title(\"Violin Plot showing distribution of Height\")\n",
    "plt.show()"
   ]
  },
  {
   "cell_type": "markdown",
   "metadata": {},
   "source": [
    "## CaseTypes of Missing Children"
   ]
  },
  {
   "cell_type": "code",
   "execution_count": 313,
   "metadata": {},
   "outputs": [
    {
     "data": {
      "text/html": [
       "<div>\n",
       "<style>\n",
       "    .dataframe thead tr:only-child th {\n",
       "        text-align: right;\n",
       "    }\n",
       "\n",
       "    .dataframe thead th {\n",
       "        text-align: left;\n",
       "    }\n",
       "\n",
       "    .dataframe tbody tr th {\n",
       "        vertical-align: top;\n",
       "    }\n",
       "</style>\n",
       "<table border=\"1\" class=\"dataframe\">\n",
       "  <thead>\n",
       "    <tr style=\"text-align: right;\">\n",
       "      <th></th>\n",
       "      <th>casetype</th>\n",
       "      <th>count</th>\n",
       "    </tr>\n",
       "  </thead>\n",
       "  <tbody>\n",
       "    <tr>\n",
       "      <th>0</th>\n",
       "      <td>Endangered Runaway</td>\n",
       "      <td>1326</td>\n",
       "    </tr>\n",
       "    <tr>\n",
       "      <th>1</th>\n",
       "      <td>Family Abduction</td>\n",
       "      <td>237</td>\n",
       "    </tr>\n",
       "    <tr>\n",
       "      <th>2</th>\n",
       "      <td>Lost Injured Missing</td>\n",
       "      <td>214</td>\n",
       "    </tr>\n",
       "    <tr>\n",
       "      <th>3</th>\n",
       "      <td>Section 5779</td>\n",
       "      <td>105</td>\n",
       "    </tr>\n",
       "    <tr>\n",
       "      <th>4</th>\n",
       "      <td>Non Family Abduction</td>\n",
       "      <td>24</td>\n",
       "    </tr>\n",
       "  </tbody>\n",
       "</table>\n",
       "</div>"
      ],
      "text/plain": [
       "               casetype  count\n",
       "0    Endangered Runaway   1326\n",
       "1      Family Abduction    237\n",
       "2  Lost Injured Missing    214\n",
       "3          Section 5779    105\n",
       "4  Non Family Abduction     24"
      ]
     },
     "execution_count": 313,
     "metadata": {},
     "output_type": "execute_result"
    }
   ],
   "source": [
    "#count of children missing in each casetype\n",
    "df_casetype = pd.DataFrame(df.casetype.value_counts())\n",
    "df_casetype.reset_index(inplace=True)\n",
    "df_casetype.columns = ['casetype','count']\n",
    "df_casetype"
   ]
  },
  {
   "cell_type": "code",
   "execution_count": 438,
   "metadata": {},
   "outputs": [
    {
     "data": {
      "image/png": "[encoded data removed]",
      "text/plain": [
       "<matplotlib.figure.Figure at 0x2387e29e898>"
      ]
     },
     "metadata": {},
     "output_type": "display_data"
    }
   ],
   "source": [
    "#this pointplot shows the number of children are missing because they ran away from their families\n",
    "plt.subplots(figsize=(10,5))\n",
    "sns.pointplot(x=\"casetype\", y=\"count\", markers=\"^\",data=df_casetype);\n",
    "plt.title(\"Missing Children In Type of Case\")\n",
    "plt.show()"
   ]
  },
  {
   "cell_type": "code",
   "execution_count": 439,
   "metadata": {},
   "outputs": [
    {
     "data": {
      "image/png": "[encoded data removed]",
      "text/plain": [
       "<matplotlib.figure.Figure at 0x23801642780>"
      ]
     },
     "metadata": {},
     "output_type": "display_data"
    }
   ],
   "source": [
    "#checking which race has most missing cases- It was observed that the children of hispanic race are missing most as they ran away\n",
    "plt.subplots(figsize=(10,8))\n",
    "sns.countplot(x=\"casetype\", data=df, hue=\"race\",palette=\"Set2\");\n",
    "plt.title(\"Missing Casetypes By Race\")\n",
    "plt.show()"
   ]
  },
  {
   "cell_type": "markdown",
   "metadata": {
    "collapsed": true
   },
   "source": [
    "TreeMap visualization for the above case is in separate ipynb file"
   ]
  },
  {
   "cell_type": "code",
   "execution_count": 437,
   "metadata": {},
   "outputs": [
    {
     "data": {
      "image/png": "[encoded data removed]",
      "text/plain": [
       "<matplotlib.figure.Figure at 0x2387f630630>"
      ]
     },
     "metadata": {},
     "output_type": "display_data"
    }
   ],
   "source": [
    "#Gender and Casetype\n",
    "plt.subplots(figsize=(10,8))\n",
    "sns.countplot(x=\"casetype\", data=df, hue=\"sex\",palette=\"husl\");\n",
    "plt.title(\"Number of Males and Females Missing In Each Type of Case\")\n",
    "plt.show()"
   ]
  },
  {
   "cell_type": "markdown",
   "metadata": {},
   "source": [
    "More females are missing because they ran away from their families and in brief, the dataset has more case under endangered runaways."
   ]
  },
  {
   "cell_type": "code",
   "execution_count": null,
   "metadata": {
    "collapsed": true
   },
   "outputs": [],
   "source": []
  }
 ],
 "metadata": {
  "kernelspec": {
   "display_name": "Python 3",
   "language": "python",
   "name": "python3"
  },
  "language_info": {
   "codemirror_mode": {
    "name": "ipython",
    "version": 3
   },
   "file_extension": ".py",
   "mimetype": "text/x-python",
   "name": "python",
   "nbconvert_exporter": "python",
   "pygments_lexer": "ipython3",
   "version": "3.6.5"
  }
 },
 "nbformat": 4,
 "nbformat_minor": 2
}
