{
 "cells": [
  {
   "cell_type": "code",
   "execution_count": 4,
   "metadata": {
    "collapsed": true
   },
   "outputs": [],
   "source": [
    "import squarify\n",
    "import pandas as pd\n",
    "import numpy as np #to read the file\n",
    "import matplotlib.pyplot as plt #python visualization library\n",
    "import seaborn as sns #python visualization library\n",
    "from pandas import Series\n",
    "from matplotlib.colors import ListedColormap\n",
    "\n",
    "## Ignore warning\n",
    "import warnings\n",
    "warnings.filterwarnings('ignore')"
   ]
  },
  {
   "cell_type": "code",
   "execution_count": 5,
   "metadata": {},
   "outputs": [],
   "source": [
    "data = pd.read_csv(\"C:/Users/mahak/Desktop/datamissingchildren.csv\",encoding='cp1252')"
   ]
  },
  {
   "cell_type": "code",
   "execution_count": 6,
   "metadata": {},
   "outputs": [
    {
     "data": {
      "text/html": [
       "<div>\n",
       "<style>\n",
       "    .dataframe thead tr:only-child th {\n",
       "        text-align: right;\n",
       "    }\n",
       "\n",
       "    .dataframe thead th {\n",
       "        text-align: left;\n",
       "    }\n",
       "\n",
       "    .dataframe tbody tr th {\n",
       "        vertical-align: top;\n",
       "    }\n",
       "</style>\n",
       "<table border=\"1\" class=\"dataframe\">\n",
       "  <thead>\n",
       "    <tr style=\"text-align: right;\">\n",
       "      <th></th>\n",
       "      <th>childid</th>\n",
       "      <th>childfirstname</th>\n",
       "      <th>childlastname</th>\n",
       "      <th>birthdate</th>\n",
       "      <th>sex</th>\n",
       "      <th>race</th>\n",
       "      <th>haircolor</th>\n",
       "      <th>eyecolor</th>\n",
       "      <th>height</th>\n",
       "      <th>weight</th>\n",
       "      <th>missingreporteddate</th>\n",
       "      <th>missingfromdate</th>\n",
       "      <th>missingfromcity</th>\n",
       "      <th>missingfromstate</th>\n",
       "      <th>missingfromcountry</th>\n",
       "      <th>ncmeccasenumber</th>\n",
       "      <th>casetype</th>\n",
       "      <th>postercontact</th>\n",
       "      <th>posterurl</th>\n",
       "    </tr>\n",
       "  </thead>\n",
       "  <tbody>\n",
       "    <tr>\n",
       "      <th>0</th>\n",
       "      <td>179184</td>\n",
       "      <td>Gabriela</td>\n",
       "      <td>Gonzalez</td>\n",
       "      <td>1987-09-22</td>\n",
       "      <td>Female</td>\n",
       "      <td>Hispanic</td>\n",
       "      <td>Brown</td>\n",
       "      <td>Brown</td>\n",
       "      <td>501</td>\n",
       "      <td>115</td>\n",
       "      <td>2002-04-18 14:14</td>\n",
       "      <td>2002-04-05 14:00</td>\n",
       "      <td>San Diego</td>\n",
       "      <td>CA</td>\n",
       "      <td>United States</td>\n",
       "      <td>933919</td>\n",
       "      <td>Lost Injured Missing</td>\n",
       "      <td>Chula Vista Police Department (California)  1-...</td>\n",
       "      <td>www.missingkids.org/poster/NCMC/933919/1/</td>\n",
       "    </tr>\n",
       "    <tr>\n",
       "      <th>1</th>\n",
       "      <td>179604</td>\n",
       "      <td>Jahi</td>\n",
       "      <td>Turner</td>\n",
       "      <td>2000-02-10</td>\n",
       "      <td>Male</td>\n",
       "      <td>Black</td>\n",
       "      <td>Black</td>\n",
       "      <td>Brown</td>\n",
       "      <td>205</td>\n",
       "      <td>30</td>\n",
       "      <td>2002-04-26 17:10</td>\n",
       "      <td>2002-04-25 14:00</td>\n",
       "      <td>San Diego</td>\n",
       "      <td>CA</td>\n",
       "      <td>United States</td>\n",
       "      <td>934331</td>\n",
       "      <td>Lost Injured Missing</td>\n",
       "      <td>San Diego Police Department (California) 1-619...</td>\n",
       "      <td>www.missingkids.org/poster/NCMC/934331/1/</td>\n",
       "    </tr>\n",
       "    <tr>\n",
       "      <th>2</th>\n",
       "      <td>181262</td>\n",
       "      <td>Jesse</td>\n",
       "      <td>Florez</td>\n",
       "      <td>1986-11-12</td>\n",
       "      <td>Male</td>\n",
       "      <td>Hispanic</td>\n",
       "      <td>Brown</td>\n",
       "      <td>Brown</td>\n",
       "      <td>411</td>\n",
       "      <td>120</td>\n",
       "      <td>2002-05-24 13:36</td>\n",
       "      <td>2001-09-14 17:00</td>\n",
       "      <td>Phoenix</td>\n",
       "      <td>AZ</td>\n",
       "      <td>United States</td>\n",
       "      <td>936029</td>\n",
       "      <td>Lost Injured Missing</td>\n",
       "      <td>Phoenix Police Department (Arizona) 1-602-262-...</td>\n",
       "      <td>www.missingkids.org/poster/NCMC/936029/1/</td>\n",
       "    </tr>\n",
       "    <tr>\n",
       "      <th>3</th>\n",
       "      <td>186377</td>\n",
       "      <td>Angel</td>\n",
       "      <td>Torres-Irizarry</td>\n",
       "      <td>1974-08-27</td>\n",
       "      <td>Male</td>\n",
       "      <td>White</td>\n",
       "      <td>Blonde</td>\n",
       "      <td>Green</td>\n",
       "      <td>200</td>\n",
       "      <td>30</td>\n",
       "      <td>2002-08-02 8:53</td>\n",
       "      <td>1976-07-06 0:00</td>\n",
       "      <td>Adjuntas</td>\n",
       "      <td>PR</td>\n",
       "      <td>United States</td>\n",
       "      <td>941306</td>\n",
       "      <td>Lost Injured Missing</td>\n",
       "      <td>Department of Justicia (Puerto Rico)  1-787-72...</td>\n",
       "      <td>www.missingkids.org/poster/NCMC/941306/1/</td>\n",
       "    </tr>\n",
       "    <tr>\n",
       "      <th>4</th>\n",
       "      <td>195599</td>\n",
       "      <td>Stefanie</td>\n",
       "      <td>Mills</td>\n",
       "      <td>1986-02-24</td>\n",
       "      <td>Female</td>\n",
       "      <td>Black</td>\n",
       "      <td>Black</td>\n",
       "      <td>Brown</td>\n",
       "      <td>506</td>\n",
       "      <td>110</td>\n",
       "      <td>2002-12-04 11:49</td>\n",
       "      <td>2002-03-07 14:45</td>\n",
       "      <td>Pittsburgh</td>\n",
       "      <td>PA</td>\n",
       "      <td>United States</td>\n",
       "      <td>950909</td>\n",
       "      <td>Endangered Runaway</td>\n",
       "      <td>Pittsburgh Police Department (Pennsylvania) 1-...</td>\n",
       "      <td>www.missingkids.org/poster/NCMC/950909/1/</td>\n",
       "    </tr>\n",
       "  </tbody>\n",
       "</table>\n",
       "</div>"
      ],
      "text/plain": [
       "   childid childfirstname    childlastname   birthdate     sex      race  \\\n",
       "0   179184       Gabriela         Gonzalez  1987-09-22  Female  Hispanic   \n",
       "1   179604           Jahi           Turner  2000-02-10    Male     Black   \n",
       "2   181262          Jesse           Florez  1986-11-12    Male  Hispanic   \n",
       "3   186377          Angel  Torres-Irizarry  1974-08-27    Male     White   \n",
       "4   195599       Stefanie            Mills  1986-02-24  Female     Black   \n",
       "\n",
       "  haircolor eyecolor  height  weight missingreporteddate   missingfromdate  \\\n",
       "0     Brown    Brown     501     115    2002-04-18 14:14  2002-04-05 14:00   \n",
       "1     Black    Brown     205      30    2002-04-26 17:10  2002-04-25 14:00   \n",
       "2     Brown    Brown     411     120    2002-05-24 13:36  2001-09-14 17:00   \n",
       "3    Blonde    Green     200      30     2002-08-02 8:53   1976-07-06 0:00   \n",
       "4     Black    Brown     506     110    2002-12-04 11:49  2002-03-07 14:45   \n",
       "\n",
       "  missingfromcity missingfromstate missingfromcountry  ncmeccasenumber  \\\n",
       "0       San Diego               CA      United States           933919   \n",
       "1       San Diego               CA      United States           934331   \n",
       "2         Phoenix               AZ      United States           936029   \n",
       "3        Adjuntas               PR      United States           941306   \n",
       "4      Pittsburgh               PA      United States           950909   \n",
       "\n",
       "               casetype                                      postercontact  \\\n",
       "0  Lost Injured Missing  Chula Vista Police Department (California)  1-...   \n",
       "1  Lost Injured Missing  San Diego Police Department (California) 1-619...   \n",
       "2  Lost Injured Missing  Phoenix Police Department (Arizona) 1-602-262-...   \n",
       "3  Lost Injured Missing  Department of Justicia (Puerto Rico)  1-787-72...   \n",
       "4    Endangered Runaway  Pittsburgh Police Department (Pennsylvania) 1-...   \n",
       "\n",
       "                                   posterurl  \n",
       "0  www.missingkids.org/poster/NCMC/933919/1/  \n",
       "1  www.missingkids.org/poster/NCMC/934331/1/  \n",
       "2  www.missingkids.org/poster/NCMC/936029/1/  \n",
       "3  www.missingkids.org/poster/NCMC/941306/1/  \n",
       "4  www.missingkids.org/poster/NCMC/950909/1/  "
      ]
     },
     "execution_count": 6,
     "metadata": {},
     "output_type": "execute_result"
    }
   ],
   "source": [
    "data.head()"
   ]
  },
  {
   "cell_type": "code",
   "execution_count": 7,
   "metadata": {},
   "outputs": [
    {
     "name": "stdout",
     "output_type": "stream",
     "text": [
      "size of data (2231, 19)\n"
     ]
    }
   ],
   "source": [
    "print(\"size of data\", data.shape)"
   ]
  },
  {
   "cell_type": "code",
   "execution_count": 8,
   "metadata": {},
   "outputs": [
    {
     "name": "stdout",
     "output_type": "stream",
     "text": [
      "<class 'pandas.core.frame.DataFrame'>\n",
      "RangeIndex: 2231 entries, 0 to 2230\n",
      "Data columns (total 19 columns):\n",
      "childid                2231 non-null int64\n",
      "childfirstname         2231 non-null object\n",
      "childlastname          2230 non-null object\n",
      "birthdate              2231 non-null object\n",
      "sex                    2231 non-null object\n",
      "race                   2231 non-null object\n",
      "haircolor              1915 non-null object\n",
      "eyecolor               1916 non-null object\n",
      "height                 2231 non-null int64\n",
      "weight                 2231 non-null int64\n",
      "missingreporteddate    2231 non-null object\n",
      "missingfromdate        2231 non-null object\n",
      "missingfromcity        2231 non-null object\n",
      "missingfromstate       2224 non-null object\n",
      "missingfromcountry     2231 non-null object\n",
      "ncmeccasenumber        2231 non-null int64\n",
      "casetype               2231 non-null object\n",
      "postercontact          2231 non-null object\n",
      "posterurl              2231 non-null object\n",
      "dtypes: int64(4), object(15)\n",
      "memory usage: 331.2+ KB\n"
     ]
    }
   ],
   "source": [
    "data.info()"
   ]
  },
  {
   "cell_type": "code",
   "execution_count": 9,
   "metadata": {},
   "outputs": [
    {
     "data": {
      "text/plain": [
       "childid                  0\n",
       "childfirstname           0\n",
       "childlastname            1\n",
       "birthdate                0\n",
       "sex                      0\n",
       "race                     0\n",
       "haircolor              316\n",
       "eyecolor               315\n",
       "height                   0\n",
       "weight                   0\n",
       "missingreporteddate      0\n",
       "missingfromdate          0\n",
       "missingfromcity          0\n",
       "missingfromstate         7\n",
       "missingfromcountry       0\n",
       "ncmeccasenumber          0\n",
       "casetype                 0\n",
       "postercontact            0\n",
       "posterurl                0\n",
       "dtype: int64"
      ]
     },
     "execution_count": 9,
     "metadata": {},
     "output_type": "execute_result"
    }
   ],
   "source": [
    "data.isnull().sum()"
   ]
  },
  {
   "cell_type": "code",
   "execution_count": 11,
   "metadata": {
    "collapsed": true
   },
   "outputs": [],
   "source": [
    "df = data.dropna()"
   ]
  },
  {
   "cell_type": "code",
   "execution_count": 12,
   "metadata": {},
   "outputs": [
    {
     "data": {
      "text/html": [
       "<div>\n",
       "<style>\n",
       "    .dataframe thead tr:only-child th {\n",
       "        text-align: right;\n",
       "    }\n",
       "\n",
       "    .dataframe thead th {\n",
       "        text-align: left;\n",
       "    }\n",
       "\n",
       "    .dataframe tbody tr th {\n",
       "        vertical-align: top;\n",
       "    }\n",
       "</style>\n",
       "<table border=\"1\" class=\"dataframe\">\n",
       "  <thead>\n",
       "    <tr style=\"text-align: right;\">\n",
       "      <th></th>\n",
       "      <th>casetype</th>\n",
       "      <th>count</th>\n",
       "    </tr>\n",
       "  </thead>\n",
       "  <tbody>\n",
       "    <tr>\n",
       "      <th>0</th>\n",
       "      <td>Endangered Runaway</td>\n",
       "      <td>1326</td>\n",
       "    </tr>\n",
       "    <tr>\n",
       "      <th>1</th>\n",
       "      <td>Family Abduction</td>\n",
       "      <td>237</td>\n",
       "    </tr>\n",
       "    <tr>\n",
       "      <th>2</th>\n",
       "      <td>Lost Injured Missing</td>\n",
       "      <td>214</td>\n",
       "    </tr>\n",
       "    <tr>\n",
       "      <th>3</th>\n",
       "      <td>Section 5779</td>\n",
       "      <td>105</td>\n",
       "    </tr>\n",
       "    <tr>\n",
       "      <th>4</th>\n",
       "      <td>Non Family Abduction</td>\n",
       "      <td>24</td>\n",
       "    </tr>\n",
       "  </tbody>\n",
       "</table>\n",
       "</div>"
      ],
      "text/plain": [
       "               casetype  count\n",
       "0    Endangered Runaway   1326\n",
       "1      Family Abduction    237\n",
       "2  Lost Injured Missing    214\n",
       "3          Section 5779    105\n",
       "4  Non Family Abduction     24"
      ]
     },
     "execution_count": 12,
     "metadata": {},
     "output_type": "execute_result"
    }
   ],
   "source": [
    "df_casetype = pd.DataFrame(df.casetype.value_counts())\n",
    "df_casetype.reset_index(inplace=True)\n",
    "df_casetype.columns = ['casetype','count']\n",
    "df_casetype"
   ]
  },
  {
   "cell_type": "code",
   "execution_count": 40,
   "metadata": {},
   "outputs": [
    {
     "data": {
      "image/png": "[encoded data removed]",
      "text/plain": [
       "<matplotlib.figure.Figure at 0x2321a656b38>"
      ]
     },
     "metadata": {},
     "output_type": "display_data"
    }
   ],
   "source": [
    "import matplotlib\n",
    "import matplotlib.pyplot as plt\n",
    "import pandas as pd\n",
    "\n",
    "sizes=df_casetype['count']\n",
    "label=df_casetype['casetype']\n",
    "squarify.plot(sizes=df_casetype['count'], label=[\"Runaway\", \"FA\", \"Lost\", \"5779\",\"NonFA\"], alpha=.7 )\n",
    "plt.axis('off')\n",
    "plt.title(\"Tree Map Showing Number of Casetypes\")\n",
    "plt.show()"
   ]
  },
  {
   "cell_type": "markdown",
   "metadata": {},
   "source": [
    "It shows runaway cases are more as compared to others.<br>\n",
    "Note: Tree map is done in a separated juypter notebook because when i was importing squarify in the existing notebook, it was giving error that no module whereas the package was imported successfully. It worked when I imported it in a separate jupyter notebook. "
   ]
  },
  {
   "cell_type": "code",
   "execution_count": null,
   "metadata": {
    "collapsed": true
   },
   "outputs": [],
   "source": []
  }
 ],
 "metadata": {
  "kernelspec": {
   "display_name": "Python 3",
   "language": "python",
   "name": "python3"
  },
  "language_info": {
   "codemirror_mode": {
    "name": "ipython",
    "version": 3
   },
   "file_extension": ".py",
   "mimetype": "text/x-python",
   "name": "python",
   "nbconvert_exporter": "python",
   "pygments_lexer": "ipython3",
   "version": "3.6.2"
  }
 },
 "nbformat": 4,
 "nbformat_minor": 2
}
